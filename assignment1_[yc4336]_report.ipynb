{
  "cells": [
    {
      "cell_type": "markdown",
      "metadata": {
        "id": "ekczNcQxUpzT"
      },
      "source": [
        "# Your Uni : yc4336\n",
        "# Your AI Model Share Username: cyn_chen\n",
        "# Your Full name : Cynthia Chen\n",
        "# Link to your Public Github repository with Final report  :\n"
      ]
    },
    {
      "cell_type": "markdown",
      "metadata": {
        "id": "JXxGTgJz152A"
      },
      "source": [
        "# World Happiness Classification Competition"
      ]
    },
    {
      "cell_type": "code",
      "execution_count": null,
      "metadata": {
        "id": "PLTIaMB3ChSW"
      },
      "outputs": [],
      "source": [
        "#install aimodelshare library\n",
        "! pip install aimodelshare --upgrade"
      ]
    },
    {
      "cell_type": "markdown",
      "metadata": {
        "id": "5gSrVJwp3E9H"
      },
      "source": [
        "## Get data in and set up X_train, X_test, y_train objects"
      ]
    },
    {
      "cell_type": "markdown",
      "source": [
        "**Instructions:**\n",
        "Upload the world_happiness_competition_data.zip and newcountryvars.csv files on Colab by pressing the Folder icon on left tab (Shows \"Files\" on hovering), and then clicking the left-most file upload button (Shows \"Upload to Session Storage\" Alt text on hovering)"
      ],
      "metadata": {
        "id": "iemh36mSklGo"
      }
    },
    {
      "cell_type": "code",
      "execution_count": null,
      "metadata": {
        "id": "l-YsXXXcUQ9G"
      },
      "outputs": [],
      "source": [
        "# Get competition data from course folder and unzip\n",
        "# importing the zipfile module\n",
        "from zipfile import ZipFile\n",
        "\n",
        "# loading the temp.zip and creating a zip object\n",
        "with ZipFile(\"world_happiness_competition_data.zip\", 'r') as zObject:\n",
        "\n",
        "    # Extracting all the members of the zip\n",
        "    # into a specific location.\n",
        "    zObject.extractall()"
      ]
    },
    {
      "cell_type": "code",
      "execution_count": null,
      "metadata": {
        "id": "jT0qFCZFNzHq",
        "colab": {
          "base_uri": "https://localhost:8080/",
          "height": 528
        },
        "outputId": "1b97cfe0-20bc-4d46-ea59-d7777105c8dd"
      },
      "outputs": [
        {
          "output_type": "execute_result",
          "data": {
            "text/plain": [
              "      Country or region  GDP per capita  Social support  \\\n",
              "0                  Peru           0.960           1.274   \n",
              "1             Nicaragua           0.694           1.325   \n",
              "2                Greece           1.181           1.156   \n",
              "3                 Qatar           1.684           1.313   \n",
              "4            Uzbekistan           0.745           1.529   \n",
              "..                  ...             ...             ...   \n",
              "83                Libya           1.044           1.303   \n",
              "84              Albania           0.947           0.848   \n",
              "85       United Kingdom           1.333           1.538   \n",
              "86                China           1.029           1.125   \n",
              "87  Congo (Brazzaville)           0.673           0.799   \n",
              "\n",
              "    Healthy life expectancy  Freedom to make life choices  Generosity  \\\n",
              "0                     0.854                         0.455       0.083   \n",
              "1                     0.835                         0.435       0.200   \n",
              "2                     0.999                         0.067       0.000   \n",
              "3                     0.871                         0.555       0.220   \n",
              "4                     0.756                         0.631       0.322   \n",
              "..                      ...                           ...         ...   \n",
              "83                    0.673                         0.416       0.133   \n",
              "84                    0.874                         0.383       0.178   \n",
              "85                    0.996                         0.450       0.348   \n",
              "86                    0.893                         0.521       0.058   \n",
              "87                    0.508                         0.372       0.105   \n",
              "\n",
              "    Perceptions of corruption                 name    region  \\\n",
              "0                       0.027                 Peru  Americas   \n",
              "1                       0.127            Nicaragua  Americas   \n",
              "2                       0.034               Greece    Europe   \n",
              "3                       0.167                Qatar      Asia   \n",
              "4                       0.240           Uzbekistan      Asia   \n",
              "..                        ...                  ...       ...   \n",
              "83                      0.152                Libya    Africa   \n",
              "84                      0.027              Albania    Europe   \n",
              "85                      0.278       United Kingdom    Europe   \n",
              "86                      0.100                China      Asia   \n",
              "87                      0.093  Congo (Brazzaville)    Africa   \n",
              "\n",
              "                         sub-region  Terrorist_attacks  \n",
              "0   Latin America and the Caribbean          18.000000  \n",
              "1   Latin America and the Caribbean         125.611111  \n",
              "2                   Southern Europe         112.000000  \n",
              "3                      Western Asia          57.333333  \n",
              "4                      Central Asia         125.611111  \n",
              "..                              ...                ...  \n",
              "83                  Northern Africa        1448.000000  \n",
              "84                  Southern Europe           9.000000  \n",
              "85                  Northern Europe         339.000000  \n",
              "86                     Eastern Asia          37.000000  \n",
              "87               Sub-Saharan Africa         122.000000  \n",
              "\n",
              "[88 rows x 11 columns]"
            ],
            "text/html": [
              "\n",
              "  <div id=\"df-505d079e-f832-4281-a898-73194c41f548\" class=\"colab-df-container\">\n",
              "    <div>\n",
              "<style scoped>\n",
              "    .dataframe tbody tr th:only-of-type {\n",
              "        vertical-align: middle;\n",
              "    }\n",
              "\n",
              "    .dataframe tbody tr th {\n",
              "        vertical-align: top;\n",
              "    }\n",
              "\n",
              "    .dataframe thead th {\n",
              "        text-align: right;\n",
              "    }\n",
              "</style>\n",
              "<table border=\"1\" class=\"dataframe\">\n",
              "  <thead>\n",
              "    <tr style=\"text-align: right;\">\n",
              "      <th></th>\n",
              "      <th>Country or region</th>\n",
              "      <th>GDP per capita</th>\n",
              "      <th>Social support</th>\n",
              "      <th>Healthy life expectancy</th>\n",
              "      <th>Freedom to make life choices</th>\n",
              "      <th>Generosity</th>\n",
              "      <th>Perceptions of corruption</th>\n",
              "      <th>name</th>\n",
              "      <th>region</th>\n",
              "      <th>sub-region</th>\n",
              "      <th>Terrorist_attacks</th>\n",
              "    </tr>\n",
              "  </thead>\n",
              "  <tbody>\n",
              "    <tr>\n",
              "      <th>0</th>\n",
              "      <td>Peru</td>\n",
              "      <td>0.960</td>\n",
              "      <td>1.274</td>\n",
              "      <td>0.854</td>\n",
              "      <td>0.455</td>\n",
              "      <td>0.083</td>\n",
              "      <td>0.027</td>\n",
              "      <td>Peru</td>\n",
              "      <td>Americas</td>\n",
              "      <td>Latin America and the Caribbean</td>\n",
              "      <td>18.000000</td>\n",
              "    </tr>\n",
              "    <tr>\n",
              "      <th>1</th>\n",
              "      <td>Nicaragua</td>\n",
              "      <td>0.694</td>\n",
              "      <td>1.325</td>\n",
              "      <td>0.835</td>\n",
              "      <td>0.435</td>\n",
              "      <td>0.200</td>\n",
              "      <td>0.127</td>\n",
              "      <td>Nicaragua</td>\n",
              "      <td>Americas</td>\n",
              "      <td>Latin America and the Caribbean</td>\n",
              "      <td>125.611111</td>\n",
              "    </tr>\n",
              "    <tr>\n",
              "      <th>2</th>\n",
              "      <td>Greece</td>\n",
              "      <td>1.181</td>\n",
              "      <td>1.156</td>\n",
              "      <td>0.999</td>\n",
              "      <td>0.067</td>\n",
              "      <td>0.000</td>\n",
              "      <td>0.034</td>\n",
              "      <td>Greece</td>\n",
              "      <td>Europe</td>\n",
              "      <td>Southern Europe</td>\n",
              "      <td>112.000000</td>\n",
              "    </tr>\n",
              "    <tr>\n",
              "      <th>3</th>\n",
              "      <td>Qatar</td>\n",
              "      <td>1.684</td>\n",
              "      <td>1.313</td>\n",
              "      <td>0.871</td>\n",
              "      <td>0.555</td>\n",
              "      <td>0.220</td>\n",
              "      <td>0.167</td>\n",
              "      <td>Qatar</td>\n",
              "      <td>Asia</td>\n",
              "      <td>Western Asia</td>\n",
              "      <td>57.333333</td>\n",
              "    </tr>\n",
              "    <tr>\n",
              "      <th>4</th>\n",
              "      <td>Uzbekistan</td>\n",
              "      <td>0.745</td>\n",
              "      <td>1.529</td>\n",
              "      <td>0.756</td>\n",
              "      <td>0.631</td>\n",
              "      <td>0.322</td>\n",
              "      <td>0.240</td>\n",
              "      <td>Uzbekistan</td>\n",
              "      <td>Asia</td>\n",
              "      <td>Central Asia</td>\n",
              "      <td>125.611111</td>\n",
              "    </tr>\n",
              "    <tr>\n",
              "      <th>...</th>\n",
              "      <td>...</td>\n",
              "      <td>...</td>\n",
              "      <td>...</td>\n",
              "      <td>...</td>\n",
              "      <td>...</td>\n",
              "      <td>...</td>\n",
              "      <td>...</td>\n",
              "      <td>...</td>\n",
              "      <td>...</td>\n",
              "      <td>...</td>\n",
              "      <td>...</td>\n",
              "    </tr>\n",
              "    <tr>\n",
              "      <th>83</th>\n",
              "      <td>Libya</td>\n",
              "      <td>1.044</td>\n",
              "      <td>1.303</td>\n",
              "      <td>0.673</td>\n",
              "      <td>0.416</td>\n",
              "      <td>0.133</td>\n",
              "      <td>0.152</td>\n",
              "      <td>Libya</td>\n",
              "      <td>Africa</td>\n",
              "      <td>Northern Africa</td>\n",
              "      <td>1448.000000</td>\n",
              "    </tr>\n",
              "    <tr>\n",
              "      <th>84</th>\n",
              "      <td>Albania</td>\n",
              "      <td>0.947</td>\n",
              "      <td>0.848</td>\n",
              "      <td>0.874</td>\n",
              "      <td>0.383</td>\n",
              "      <td>0.178</td>\n",
              "      <td>0.027</td>\n",
              "      <td>Albania</td>\n",
              "      <td>Europe</td>\n",
              "      <td>Southern Europe</td>\n",
              "      <td>9.000000</td>\n",
              "    </tr>\n",
              "    <tr>\n",
              "      <th>85</th>\n",
              "      <td>United Kingdom</td>\n",
              "      <td>1.333</td>\n",
              "      <td>1.538</td>\n",
              "      <td>0.996</td>\n",
              "      <td>0.450</td>\n",
              "      <td>0.348</td>\n",
              "      <td>0.278</td>\n",
              "      <td>United Kingdom</td>\n",
              "      <td>Europe</td>\n",
              "      <td>Northern Europe</td>\n",
              "      <td>339.000000</td>\n",
              "    </tr>\n",
              "    <tr>\n",
              "      <th>86</th>\n",
              "      <td>China</td>\n",
              "      <td>1.029</td>\n",
              "      <td>1.125</td>\n",
              "      <td>0.893</td>\n",
              "      <td>0.521</td>\n",
              "      <td>0.058</td>\n",
              "      <td>0.100</td>\n",
              "      <td>China</td>\n",
              "      <td>Asia</td>\n",
              "      <td>Eastern Asia</td>\n",
              "      <td>37.000000</td>\n",
              "    </tr>\n",
              "    <tr>\n",
              "      <th>87</th>\n",
              "      <td>Congo (Brazzaville)</td>\n",
              "      <td>0.673</td>\n",
              "      <td>0.799</td>\n",
              "      <td>0.508</td>\n",
              "      <td>0.372</td>\n",
              "      <td>0.105</td>\n",
              "      <td>0.093</td>\n",
              "      <td>Congo (Brazzaville)</td>\n",
              "      <td>Africa</td>\n",
              "      <td>Sub-Saharan Africa</td>\n",
              "      <td>122.000000</td>\n",
              "    </tr>\n",
              "  </tbody>\n",
              "</table>\n",
              "<p>88 rows × 11 columns</p>\n",
              "</div>\n",
              "    <div class=\"colab-df-buttons\">\n",
              "\n",
              "  <div class=\"colab-df-container\">\n",
              "    <button class=\"colab-df-convert\" onclick=\"convertToInteractive('df-505d079e-f832-4281-a898-73194c41f548')\"\n",
              "            title=\"Convert this dataframe to an interactive table.\"\n",
              "            style=\"display:none;\">\n",
              "\n",
              "  <svg xmlns=\"http://www.w3.org/2000/svg\" height=\"24px\" viewBox=\"0 -960 960 960\">\n",
              "    <path d=\"M120-120v-720h720v720H120Zm60-500h600v-160H180v160Zm220 220h160v-160H400v160Zm0 220h160v-160H400v160ZM180-400h160v-160H180v160Zm440 0h160v-160H620v160ZM180-180h160v-160H180v160Zm440 0h160v-160H620v160Z\"/>\n",
              "  </svg>\n",
              "    </button>\n",
              "\n",
              "  <style>\n",
              "    .colab-df-container {\n",
              "      display:flex;\n",
              "      gap: 12px;\n",
              "    }\n",
              "\n",
              "    .colab-df-convert {\n",
              "      background-color: #E8F0FE;\n",
              "      border: none;\n",
              "      border-radius: 50%;\n",
              "      cursor: pointer;\n",
              "      display: none;\n",
              "      fill: #1967D2;\n",
              "      height: 32px;\n",
              "      padding: 0 0 0 0;\n",
              "      width: 32px;\n",
              "    }\n",
              "\n",
              "    .colab-df-convert:hover {\n",
              "      background-color: #E2EBFA;\n",
              "      box-shadow: 0px 1px 2px rgba(60, 64, 67, 0.3), 0px 1px 3px 1px rgba(60, 64, 67, 0.15);\n",
              "      fill: #174EA6;\n",
              "    }\n",
              "\n",
              "    .colab-df-buttons div {\n",
              "      margin-bottom: 4px;\n",
              "    }\n",
              "\n",
              "    [theme=dark] .colab-df-convert {\n",
              "      background-color: #3B4455;\n",
              "      fill: #D2E3FC;\n",
              "    }\n",
              "\n",
              "    [theme=dark] .colab-df-convert:hover {\n",
              "      background-color: #434B5C;\n",
              "      box-shadow: 0px 1px 3px 1px rgba(0, 0, 0, 0.15);\n",
              "      filter: drop-shadow(0px 1px 2px rgba(0, 0, 0, 0.3));\n",
              "      fill: #FFFFFF;\n",
              "    }\n",
              "  </style>\n",
              "\n",
              "    <script>\n",
              "      const buttonEl =\n",
              "        document.querySelector('#df-505d079e-f832-4281-a898-73194c41f548 button.colab-df-convert');\n",
              "      buttonEl.style.display =\n",
              "        google.colab.kernel.accessAllowed ? 'block' : 'none';\n",
              "\n",
              "      async function convertToInteractive(key) {\n",
              "        const element = document.querySelector('#df-505d079e-f832-4281-a898-73194c41f548');\n",
              "        const dataTable =\n",
              "          await google.colab.kernel.invokeFunction('convertToInteractive',\n",
              "                                                    [key], {});\n",
              "        if (!dataTable) return;\n",
              "\n",
              "        const docLinkHtml = 'Like what you see? Visit the ' +\n",
              "          '<a target=\"_blank\" href=https://colab.research.google.com/notebooks/data_table.ipynb>data table notebook</a>'\n",
              "          + ' to learn more about interactive tables.';\n",
              "        element.innerHTML = '';\n",
              "        dataTable['output_type'] = 'display_data';\n",
              "        await google.colab.output.renderOutput(dataTable, element);\n",
              "        const docLink = document.createElement('div');\n",
              "        docLink.innerHTML = docLinkHtml;\n",
              "        element.appendChild(docLink);\n",
              "      }\n",
              "    </script>\n",
              "  </div>\n",
              "\n",
              "\n",
              "<div id=\"df-9e45c073-ecd4-44dc-ade8-74cf98818559\">\n",
              "  <button class=\"colab-df-quickchart\" onclick=\"quickchart('df-9e45c073-ecd4-44dc-ade8-74cf98818559')\"\n",
              "            title=\"Suggest charts\"\n",
              "            style=\"display:none;\">\n",
              "\n",
              "<svg xmlns=\"http://www.w3.org/2000/svg\" height=\"24px\"viewBox=\"0 0 24 24\"\n",
              "     width=\"24px\">\n",
              "    <g>\n",
              "        <path d=\"M19 3H5c-1.1 0-2 .9-2 2v14c0 1.1.9 2 2 2h14c1.1 0 2-.9 2-2V5c0-1.1-.9-2-2-2zM9 17H7v-7h2v7zm4 0h-2V7h2v10zm4 0h-2v-4h2v4z\"/>\n",
              "    </g>\n",
              "</svg>\n",
              "  </button>\n",
              "\n",
              "<style>\n",
              "  .colab-df-quickchart {\n",
              "      --bg-color: #E8F0FE;\n",
              "      --fill-color: #1967D2;\n",
              "      --hover-bg-color: #E2EBFA;\n",
              "      --hover-fill-color: #174EA6;\n",
              "      --disabled-fill-color: #AAA;\n",
              "      --disabled-bg-color: #DDD;\n",
              "  }\n",
              "\n",
              "  [theme=dark] .colab-df-quickchart {\n",
              "      --bg-color: #3B4455;\n",
              "      --fill-color: #D2E3FC;\n",
              "      --hover-bg-color: #434B5C;\n",
              "      --hover-fill-color: #FFFFFF;\n",
              "      --disabled-bg-color: #3B4455;\n",
              "      --disabled-fill-color: #666;\n",
              "  }\n",
              "\n",
              "  .colab-df-quickchart {\n",
              "    background-color: var(--bg-color);\n",
              "    border: none;\n",
              "    border-radius: 50%;\n",
              "    cursor: pointer;\n",
              "    display: none;\n",
              "    fill: var(--fill-color);\n",
              "    height: 32px;\n",
              "    padding: 0;\n",
              "    width: 32px;\n",
              "  }\n",
              "\n",
              "  .colab-df-quickchart:hover {\n",
              "    background-color: var(--hover-bg-color);\n",
              "    box-shadow: 0 1px 2px rgba(60, 64, 67, 0.3), 0 1px 3px 1px rgba(60, 64, 67, 0.15);\n",
              "    fill: var(--button-hover-fill-color);\n",
              "  }\n",
              "\n",
              "  .colab-df-quickchart-complete:disabled,\n",
              "  .colab-df-quickchart-complete:disabled:hover {\n",
              "    background-color: var(--disabled-bg-color);\n",
              "    fill: var(--disabled-fill-color);\n",
              "    box-shadow: none;\n",
              "  }\n",
              "\n",
              "  .colab-df-spinner {\n",
              "    border: 2px solid var(--fill-color);\n",
              "    border-color: transparent;\n",
              "    border-bottom-color: var(--fill-color);\n",
              "    animation:\n",
              "      spin 1s steps(1) infinite;\n",
              "  }\n",
              "\n",
              "  @keyframes spin {\n",
              "    0% {\n",
              "      border-color: transparent;\n",
              "      border-bottom-color: var(--fill-color);\n",
              "      border-left-color: var(--fill-color);\n",
              "    }\n",
              "    20% {\n",
              "      border-color: transparent;\n",
              "      border-left-color: var(--fill-color);\n",
              "      border-top-color: var(--fill-color);\n",
              "    }\n",
              "    30% {\n",
              "      border-color: transparent;\n",
              "      border-left-color: var(--fill-color);\n",
              "      border-top-color: var(--fill-color);\n",
              "      border-right-color: var(--fill-color);\n",
              "    }\n",
              "    40% {\n",
              "      border-color: transparent;\n",
              "      border-right-color: var(--fill-color);\n",
              "      border-top-color: var(--fill-color);\n",
              "    }\n",
              "    60% {\n",
              "      border-color: transparent;\n",
              "      border-right-color: var(--fill-color);\n",
              "    }\n",
              "    80% {\n",
              "      border-color: transparent;\n",
              "      border-right-color: var(--fill-color);\n",
              "      border-bottom-color: var(--fill-color);\n",
              "    }\n",
              "    90% {\n",
              "      border-color: transparent;\n",
              "      border-bottom-color: var(--fill-color);\n",
              "    }\n",
              "  }\n",
              "</style>\n",
              "\n",
              "  <script>\n",
              "    async function quickchart(key) {\n",
              "      const quickchartButtonEl =\n",
              "        document.querySelector('#' + key + ' button');\n",
              "      quickchartButtonEl.disabled = true;  // To prevent multiple clicks.\n",
              "      quickchartButtonEl.classList.add('colab-df-spinner');\n",
              "      try {\n",
              "        const charts = await google.colab.kernel.invokeFunction(\n",
              "            'suggestCharts', [key], {});\n",
              "      } catch (error) {\n",
              "        console.error('Error during call to suggestCharts:', error);\n",
              "      }\n",
              "      quickchartButtonEl.classList.remove('colab-df-spinner');\n",
              "      quickchartButtonEl.classList.add('colab-df-quickchart-complete');\n",
              "    }\n",
              "    (() => {\n",
              "      let quickchartButtonEl =\n",
              "        document.querySelector('#df-9e45c073-ecd4-44dc-ade8-74cf98818559 button');\n",
              "      quickchartButtonEl.style.display =\n",
              "        google.colab.kernel.accessAllowed ? 'block' : 'none';\n",
              "    })();\n",
              "  </script>\n",
              "</div>\n",
              "    </div>\n",
              "  </div>\n"
            ],
            "application/vnd.google.colaboratory.intrinsic+json": {
              "type": "dataframe",
              "variable_name": "X_train",
              "summary": "{\n  \"name\": \"X_train\",\n  \"rows\": 88,\n  \"fields\": [\n    {\n      \"column\": \"Country or region\",\n      \"properties\": {\n        \"dtype\": \"string\",\n        \"num_unique_values\": 88,\n        \"samples\": [\n          \"Nepal\",\n          \"Peru\",\n          \"Cambodia\"\n        ],\n        \"semantic_type\": \"\",\n        \"description\": \"\"\n      }\n    },\n    {\n      \"column\": \"GDP per capita\",\n      \"properties\": {\n        \"dtype\": \"number\",\n        \"std\": 0.41263817719902224,\n        \"min\": 0.026,\n        \"max\": 1.684,\n        \"num_unique_values\": 84,\n        \"samples\": [\n          1.1,\n          0.96,\n          1.5\n        ],\n        \"semantic_type\": \"\",\n        \"description\": \"\"\n      }\n    },\n    {\n      \"column\": \"Social support\",\n      \"properties\": {\n        \"dtype\": \"number\",\n        \"std\": 0.29383019014838013,\n        \"min\": 0.0,\n        \"max\": 1.624,\n        \"num_unique_values\": 84,\n        \"samples\": [\n          1.226,\n          1.274,\n          1.528\n        ],\n        \"semantic_type\": \"\",\n        \"description\": \"\"\n      }\n    },\n    {\n      \"column\": \"Healthy life expectancy\",\n      \"properties\": {\n        \"dtype\": \"number\",\n        \"std\": 0.23767133483290306,\n        \"min\": 0.105,\n        \"max\": 1.141,\n        \"num_unique_values\": 74,\n        \"samples\": [\n          0.756,\n          0.996,\n          1.141\n        ],\n        \"semantic_type\": \"\",\n        \"description\": \"\"\n      }\n    },\n    {\n      \"column\": \"Freedom to make life choices\",\n      \"properties\": {\n        \"dtype\": \"number\",\n        \"std\": 0.15663397022025344,\n        \"min\": 0.0,\n        \"max\": 0.631,\n        \"num_unique_values\": 82,\n        \"samples\": [\n          0.471,\n          0.455,\n          0.572\n        ],\n        \"semantic_type\": \"\",\n        \"description\": \"\"\n      }\n    },\n    {\n      \"column\": \"Generosity\",\n      \"properties\": {\n        \"dtype\": \"number\",\n        \"std\": 0.10251640284688385,\n        \"min\": 0.0,\n        \"max\": 0.566,\n        \"num_unique_values\": 79,\n        \"samples\": [\n          0.066,\n          0.083,\n          0.175\n        ],\n        \"semantic_type\": \"\",\n        \"description\": \"\"\n      }\n    },\n    {\n      \"column\": \"Perceptions of corruption\",\n      \"properties\": {\n        \"dtype\": \"number\",\n        \"std\": 0.10330914285224325,\n        \"min\": 0.0,\n        \"max\": 0.453,\n        \"num_unique_values\": 70,\n        \"samples\": [\n          0.343,\n          0.027,\n          0.162\n        ],\n        \"semantic_type\": \"\",\n        \"description\": \"\"\n      }\n    },\n    {\n      \"column\": \"name\",\n      \"properties\": {\n        \"dtype\": \"string\",\n        \"num_unique_values\": 88,\n        \"samples\": [\n          \"Nepal\",\n          \"Peru\",\n          \"Cambodia\"\n        ],\n        \"semantic_type\": \"\",\n        \"description\": \"\"\n      }\n    },\n    {\n      \"column\": \"region\",\n      \"properties\": {\n        \"dtype\": \"category\",\n        \"num_unique_values\": 5,\n        \"samples\": [\n          \"Europe\",\n          \"Oceania\",\n          \"Asia\"\n        ],\n        \"semantic_type\": \"\",\n        \"description\": \"\"\n      }\n    },\n    {\n      \"column\": \"sub-region\",\n      \"properties\": {\n        \"dtype\": \"category\",\n        \"num_unique_values\": 14,\n        \"samples\": [\n          \"Australia and New Zealand\",\n          \"Northern Europe\",\n          \"Latin America and the Caribbean\"\n        ],\n        \"semantic_type\": \"\",\n        \"description\": \"\"\n      }\n    },\n    {\n      \"column\": \"Terrorist_attacks\",\n      \"properties\": {\n        \"dtype\": \"number\",\n        \"std\": 764.3514718893506,\n        \"min\": 1.0,\n        \"max\": 6023.0,\n        \"num_unique_values\": 43,\n        \"samples\": [\n          37.0,\n          24.0,\n          84.0\n        ],\n        \"semantic_type\": \"\",\n        \"description\": \"\"\n      }\n    }\n  ]\n}"
            }
          },
          "metadata": {},
          "execution_count": 66
        }
      ],
      "source": [
        "# Load data\n",
        "import pandas as pd\n",
        "X_train = pd.read_csv('world_happiness_competition_data/X_train.csv')\n",
        "X_test = pd.read_csv('world_happiness_competition_data/X_test.csv')## Load test features to predict on\n",
        "y_train = pd.read_csv('world_happiness_competition_data/y_train.csv')## Load y train (true labels)\n",
        "y_train_labels = y_train.idxmax(axis=1) ## Examine what this does and write in next cell\n",
        "\n",
        "X_train.head(100)\n"
      ]
    },
    {
      "cell_type": "markdown",
      "source": [
        "Write in the next cell what the y_train_labels = y_train.idxmax(axis=1) line does. What is the difference between y_train_labels and y_train?"
      ],
      "metadata": {
        "id": "KvTXc7QOl5s7"
      }
    },
    {
      "cell_type": "code",
      "source": [
        "# Your answer:  y_train_labels = y_train.idxmax(axis=1) line returns index of first occurrence of maximum over\n",
        "# requested axis, with 1 or 'columns' for column-wise. The result is an object datatype, with first column\n",
        "# identical to y_train's(row index) and second column including the name of first maximum column.\n",
        "# Therefore, y_train stores the labels of training data that are one-hot encoded.\n",
        "# y_train_label represents the predicted class for each instance in y_train."
      ],
      "metadata": {
        "id": "DsFZm1z0l0EC"
      },
      "execution_count": null,
      "outputs": []
    },
    {
      "cell_type": "markdown",
      "metadata": {
        "id": "jbevDQ9_8-pt"
      },
      "source": [
        "##  Add new data"
      ]
    },
    {
      "cell_type": "code",
      "execution_count": null,
      "metadata": {
        "id": "tFBU6SBm896W",
        "colab": {
          "base_uri": "https://localhost:8080/",
          "height": 424
        },
        "outputId": "ce986705-3bd6-461f-b676-de95067bf49d"
      },
      "outputs": [
        {
          "output_type": "execute_result",
          "data": {
            "text/plain": [
              "   country_name  population  population_below_poverty_line       hdi  \\\n",
              "0         India  1339180127                           21.9  0.623559   \n",
              "1       Nigeria   190886311                           70.0  0.527105   \n",
              "2        Mexico   129163276                           46.2  0.761683   \n",
              "3      Pakistan   197015955                           29.5  0.550354   \n",
              "4    Bangladesh   164669751                           31.5  0.578824   \n",
              "..          ...         ...                            ...       ...   \n",
              "95  Netherlands    17035938                            8.8  0.924312   \n",
              "96       Sweden     9910701                           15.0  0.912706   \n",
              "97      Hungary     9721559                           14.9  0.836211   \n",
              "98    Hong Kong     7364883                           19.6  0.917157   \n",
              "99    Sri Lanka    20876917                            6.7  0.766438   \n",
              "\n",
              "    life_expectancy  expected_years_of_schooling  mean_years_of_schooling  \\\n",
              "0            68.322                    11.696590                 6.298834   \n",
              "1            53.057                     9.970482                 6.000000   \n",
              "2            76.972                    13.299090                 8.554985   \n",
              "3            66.365                     8.106910                 5.089460   \n",
              "4            71.985                    10.178706                 5.241577   \n",
              "..              ...                          ...                      ...   \n",
              "95           81.706                    18.116540                11.914070   \n",
              "96           82.347                    16.055459                12.273700   \n",
              "97           75.313                    15.595180                12.020000   \n",
              "98           84.163                    15.673290                11.590666   \n",
              "99           75.049                    13.967160                10.915082   \n",
              "\n",
              "             gni  \n",
              "0    5663.474799  \n",
              "1    5442.901264  \n",
              "2   16383.106680  \n",
              "3    5031.173074  \n",
              "4    3341.490722  \n",
              "..           ...  \n",
              "95  46325.576580  \n",
              "96  46250.793820  \n",
              "97  23394.324230  \n",
              "98  54264.914780  \n",
              "99  10788.908530  \n",
              "\n",
              "[100 rows x 8 columns]"
            ],
            "text/html": [
              "\n",
              "  <div id=\"df-c939a1ad-98f8-48b4-b403-65191363e82d\" class=\"colab-df-container\">\n",
              "    <div>\n",
              "<style scoped>\n",
              "    .dataframe tbody tr th:only-of-type {\n",
              "        vertical-align: middle;\n",
              "    }\n",
              "\n",
              "    .dataframe tbody tr th {\n",
              "        vertical-align: top;\n",
              "    }\n",
              "\n",
              "    .dataframe thead th {\n",
              "        text-align: right;\n",
              "    }\n",
              "</style>\n",
              "<table border=\"1\" class=\"dataframe\">\n",
              "  <thead>\n",
              "    <tr style=\"text-align: right;\">\n",
              "      <th></th>\n",
              "      <th>country_name</th>\n",
              "      <th>population</th>\n",
              "      <th>population_below_poverty_line</th>\n",
              "      <th>hdi</th>\n",
              "      <th>life_expectancy</th>\n",
              "      <th>expected_years_of_schooling</th>\n",
              "      <th>mean_years_of_schooling</th>\n",
              "      <th>gni</th>\n",
              "    </tr>\n",
              "  </thead>\n",
              "  <tbody>\n",
              "    <tr>\n",
              "      <th>0</th>\n",
              "      <td>India</td>\n",
              "      <td>1339180127</td>\n",
              "      <td>21.9</td>\n",
              "      <td>0.623559</td>\n",
              "      <td>68.322</td>\n",
              "      <td>11.696590</td>\n",
              "      <td>6.298834</td>\n",
              "      <td>5663.474799</td>\n",
              "    </tr>\n",
              "    <tr>\n",
              "      <th>1</th>\n",
              "      <td>Nigeria</td>\n",
              "      <td>190886311</td>\n",
              "      <td>70.0</td>\n",
              "      <td>0.527105</td>\n",
              "      <td>53.057</td>\n",
              "      <td>9.970482</td>\n",
              "      <td>6.000000</td>\n",
              "      <td>5442.901264</td>\n",
              "    </tr>\n",
              "    <tr>\n",
              "      <th>2</th>\n",
              "      <td>Mexico</td>\n",
              "      <td>129163276</td>\n",
              "      <td>46.2</td>\n",
              "      <td>0.761683</td>\n",
              "      <td>76.972</td>\n",
              "      <td>13.299090</td>\n",
              "      <td>8.554985</td>\n",
              "      <td>16383.106680</td>\n",
              "    </tr>\n",
              "    <tr>\n",
              "      <th>3</th>\n",
              "      <td>Pakistan</td>\n",
              "      <td>197015955</td>\n",
              "      <td>29.5</td>\n",
              "      <td>0.550354</td>\n",
              "      <td>66.365</td>\n",
              "      <td>8.106910</td>\n",
              "      <td>5.089460</td>\n",
              "      <td>5031.173074</td>\n",
              "    </tr>\n",
              "    <tr>\n",
              "      <th>4</th>\n",
              "      <td>Bangladesh</td>\n",
              "      <td>164669751</td>\n",
              "      <td>31.5</td>\n",
              "      <td>0.578824</td>\n",
              "      <td>71.985</td>\n",
              "      <td>10.178706</td>\n",
              "      <td>5.241577</td>\n",
              "      <td>3341.490722</td>\n",
              "    </tr>\n",
              "    <tr>\n",
              "      <th>...</th>\n",
              "      <td>...</td>\n",
              "      <td>...</td>\n",
              "      <td>...</td>\n",
              "      <td>...</td>\n",
              "      <td>...</td>\n",
              "      <td>...</td>\n",
              "      <td>...</td>\n",
              "      <td>...</td>\n",
              "    </tr>\n",
              "    <tr>\n",
              "      <th>95</th>\n",
              "      <td>Netherlands</td>\n",
              "      <td>17035938</td>\n",
              "      <td>8.8</td>\n",
              "      <td>0.924312</td>\n",
              "      <td>81.706</td>\n",
              "      <td>18.116540</td>\n",
              "      <td>11.914070</td>\n",
              "      <td>46325.576580</td>\n",
              "    </tr>\n",
              "    <tr>\n",
              "      <th>96</th>\n",
              "      <td>Sweden</td>\n",
              "      <td>9910701</td>\n",
              "      <td>15.0</td>\n",
              "      <td>0.912706</td>\n",
              "      <td>82.347</td>\n",
              "      <td>16.055459</td>\n",
              "      <td>12.273700</td>\n",
              "      <td>46250.793820</td>\n",
              "    </tr>\n",
              "    <tr>\n",
              "      <th>97</th>\n",
              "      <td>Hungary</td>\n",
              "      <td>9721559</td>\n",
              "      <td>14.9</td>\n",
              "      <td>0.836211</td>\n",
              "      <td>75.313</td>\n",
              "      <td>15.595180</td>\n",
              "      <td>12.020000</td>\n",
              "      <td>23394.324230</td>\n",
              "    </tr>\n",
              "    <tr>\n",
              "      <th>98</th>\n",
              "      <td>Hong Kong</td>\n",
              "      <td>7364883</td>\n",
              "      <td>19.6</td>\n",
              "      <td>0.917157</td>\n",
              "      <td>84.163</td>\n",
              "      <td>15.673290</td>\n",
              "      <td>11.590666</td>\n",
              "      <td>54264.914780</td>\n",
              "    </tr>\n",
              "    <tr>\n",
              "      <th>99</th>\n",
              "      <td>Sri Lanka</td>\n",
              "      <td>20876917</td>\n",
              "      <td>6.7</td>\n",
              "      <td>0.766438</td>\n",
              "      <td>75.049</td>\n",
              "      <td>13.967160</td>\n",
              "      <td>10.915082</td>\n",
              "      <td>10788.908530</td>\n",
              "    </tr>\n",
              "  </tbody>\n",
              "</table>\n",
              "<p>100 rows × 8 columns</p>\n",
              "</div>\n",
              "    <div class=\"colab-df-buttons\">\n",
              "\n",
              "  <div class=\"colab-df-container\">\n",
              "    <button class=\"colab-df-convert\" onclick=\"convertToInteractive('df-c939a1ad-98f8-48b4-b403-65191363e82d')\"\n",
              "            title=\"Convert this dataframe to an interactive table.\"\n",
              "            style=\"display:none;\">\n",
              "\n",
              "  <svg xmlns=\"http://www.w3.org/2000/svg\" height=\"24px\" viewBox=\"0 -960 960 960\">\n",
              "    <path d=\"M120-120v-720h720v720H120Zm60-500h600v-160H180v160Zm220 220h160v-160H400v160Zm0 220h160v-160H400v160ZM180-400h160v-160H180v160Zm440 0h160v-160H620v160ZM180-180h160v-160H180v160Zm440 0h160v-160H620v160Z\"/>\n",
              "  </svg>\n",
              "    </button>\n",
              "\n",
              "  <style>\n",
              "    .colab-df-container {\n",
              "      display:flex;\n",
              "      gap: 12px;\n",
              "    }\n",
              "\n",
              "    .colab-df-convert {\n",
              "      background-color: #E8F0FE;\n",
              "      border: none;\n",
              "      border-radius: 50%;\n",
              "      cursor: pointer;\n",
              "      display: none;\n",
              "      fill: #1967D2;\n",
              "      height: 32px;\n",
              "      padding: 0 0 0 0;\n",
              "      width: 32px;\n",
              "    }\n",
              "\n",
              "    .colab-df-convert:hover {\n",
              "      background-color: #E2EBFA;\n",
              "      box-shadow: 0px 1px 2px rgba(60, 64, 67, 0.3), 0px 1px 3px 1px rgba(60, 64, 67, 0.15);\n",
              "      fill: #174EA6;\n",
              "    }\n",
              "\n",
              "    .colab-df-buttons div {\n",
              "      margin-bottom: 4px;\n",
              "    }\n",
              "\n",
              "    [theme=dark] .colab-df-convert {\n",
              "      background-color: #3B4455;\n",
              "      fill: #D2E3FC;\n",
              "    }\n",
              "\n",
              "    [theme=dark] .colab-df-convert:hover {\n",
              "      background-color: #434B5C;\n",
              "      box-shadow: 0px 1px 3px 1px rgba(0, 0, 0, 0.15);\n",
              "      filter: drop-shadow(0px 1px 2px rgba(0, 0, 0, 0.3));\n",
              "      fill: #FFFFFF;\n",
              "    }\n",
              "  </style>\n",
              "\n",
              "    <script>\n",
              "      const buttonEl =\n",
              "        document.querySelector('#df-c939a1ad-98f8-48b4-b403-65191363e82d button.colab-df-convert');\n",
              "      buttonEl.style.display =\n",
              "        google.colab.kernel.accessAllowed ? 'block' : 'none';\n",
              "\n",
              "      async function convertToInteractive(key) {\n",
              "        const element = document.querySelector('#df-c939a1ad-98f8-48b4-b403-65191363e82d');\n",
              "        const dataTable =\n",
              "          await google.colab.kernel.invokeFunction('convertToInteractive',\n",
              "                                                    [key], {});\n",
              "        if (!dataTable) return;\n",
              "\n",
              "        const docLinkHtml = 'Like what you see? Visit the ' +\n",
              "          '<a target=\"_blank\" href=https://colab.research.google.com/notebooks/data_table.ipynb>data table notebook</a>'\n",
              "          + ' to learn more about interactive tables.';\n",
              "        element.innerHTML = '';\n",
              "        dataTable['output_type'] = 'display_data';\n",
              "        await google.colab.output.renderOutput(dataTable, element);\n",
              "        const docLink = document.createElement('div');\n",
              "        docLink.innerHTML = docLinkHtml;\n",
              "        element.appendChild(docLink);\n",
              "      }\n",
              "    </script>\n",
              "  </div>\n",
              "\n",
              "\n",
              "<div id=\"df-7f4994ec-70dd-4bfe-bb59-65dfcc0e908a\">\n",
              "  <button class=\"colab-df-quickchart\" onclick=\"quickchart('df-7f4994ec-70dd-4bfe-bb59-65dfcc0e908a')\"\n",
              "            title=\"Suggest charts\"\n",
              "            style=\"display:none;\">\n",
              "\n",
              "<svg xmlns=\"http://www.w3.org/2000/svg\" height=\"24px\"viewBox=\"0 0 24 24\"\n",
              "     width=\"24px\">\n",
              "    <g>\n",
              "        <path d=\"M19 3H5c-1.1 0-2 .9-2 2v14c0 1.1.9 2 2 2h14c1.1 0 2-.9 2-2V5c0-1.1-.9-2-2-2zM9 17H7v-7h2v7zm4 0h-2V7h2v10zm4 0h-2v-4h2v4z\"/>\n",
              "    </g>\n",
              "</svg>\n",
              "  </button>\n",
              "\n",
              "<style>\n",
              "  .colab-df-quickchart {\n",
              "      --bg-color: #E8F0FE;\n",
              "      --fill-color: #1967D2;\n",
              "      --hover-bg-color: #E2EBFA;\n",
              "      --hover-fill-color: #174EA6;\n",
              "      --disabled-fill-color: #AAA;\n",
              "      --disabled-bg-color: #DDD;\n",
              "  }\n",
              "\n",
              "  [theme=dark] .colab-df-quickchart {\n",
              "      --bg-color: #3B4455;\n",
              "      --fill-color: #D2E3FC;\n",
              "      --hover-bg-color: #434B5C;\n",
              "      --hover-fill-color: #FFFFFF;\n",
              "      --disabled-bg-color: #3B4455;\n",
              "      --disabled-fill-color: #666;\n",
              "  }\n",
              "\n",
              "  .colab-df-quickchart {\n",
              "    background-color: var(--bg-color);\n",
              "    border: none;\n",
              "    border-radius: 50%;\n",
              "    cursor: pointer;\n",
              "    display: none;\n",
              "    fill: var(--fill-color);\n",
              "    height: 32px;\n",
              "    padding: 0;\n",
              "    width: 32px;\n",
              "  }\n",
              "\n",
              "  .colab-df-quickchart:hover {\n",
              "    background-color: var(--hover-bg-color);\n",
              "    box-shadow: 0 1px 2px rgba(60, 64, 67, 0.3), 0 1px 3px 1px rgba(60, 64, 67, 0.15);\n",
              "    fill: var(--button-hover-fill-color);\n",
              "  }\n",
              "\n",
              "  .colab-df-quickchart-complete:disabled,\n",
              "  .colab-df-quickchart-complete:disabled:hover {\n",
              "    background-color: var(--disabled-bg-color);\n",
              "    fill: var(--disabled-fill-color);\n",
              "    box-shadow: none;\n",
              "  }\n",
              "\n",
              "  .colab-df-spinner {\n",
              "    border: 2px solid var(--fill-color);\n",
              "    border-color: transparent;\n",
              "    border-bottom-color: var(--fill-color);\n",
              "    animation:\n",
              "      spin 1s steps(1) infinite;\n",
              "  }\n",
              "\n",
              "  @keyframes spin {\n",
              "    0% {\n",
              "      border-color: transparent;\n",
              "      border-bottom-color: var(--fill-color);\n",
              "      border-left-color: var(--fill-color);\n",
              "    }\n",
              "    20% {\n",
              "      border-color: transparent;\n",
              "      border-left-color: var(--fill-color);\n",
              "      border-top-color: var(--fill-color);\n",
              "    }\n",
              "    30% {\n",
              "      border-color: transparent;\n",
              "      border-left-color: var(--fill-color);\n",
              "      border-top-color: var(--fill-color);\n",
              "      border-right-color: var(--fill-color);\n",
              "    }\n",
              "    40% {\n",
              "      border-color: transparent;\n",
              "      border-right-color: var(--fill-color);\n",
              "      border-top-color: var(--fill-color);\n",
              "    }\n",
              "    60% {\n",
              "      border-color: transparent;\n",
              "      border-right-color: var(--fill-color);\n",
              "    }\n",
              "    80% {\n",
              "      border-color: transparent;\n",
              "      border-right-color: var(--fill-color);\n",
              "      border-bottom-color: var(--fill-color);\n",
              "    }\n",
              "    90% {\n",
              "      border-color: transparent;\n",
              "      border-bottom-color: var(--fill-color);\n",
              "    }\n",
              "  }\n",
              "</style>\n",
              "\n",
              "  <script>\n",
              "    async function quickchart(key) {\n",
              "      const quickchartButtonEl =\n",
              "        document.querySelector('#' + key + ' button');\n",
              "      quickchartButtonEl.disabled = true;  // To prevent multiple clicks.\n",
              "      quickchartButtonEl.classList.add('colab-df-spinner');\n",
              "      try {\n",
              "        const charts = await google.colab.kernel.invokeFunction(\n",
              "            'suggestCharts', [key], {});\n",
              "      } catch (error) {\n",
              "        console.error('Error during call to suggestCharts:', error);\n",
              "      }\n",
              "      quickchartButtonEl.classList.remove('colab-df-spinner');\n",
              "      quickchartButtonEl.classList.add('colab-df-quickchart-complete');\n",
              "    }\n",
              "    (() => {\n",
              "      let quickchartButtonEl =\n",
              "        document.querySelector('#df-7f4994ec-70dd-4bfe-bb59-65dfcc0e908a button');\n",
              "      quickchartButtonEl.style.display =\n",
              "        google.colab.kernel.accessAllowed ? 'block' : 'none';\n",
              "    })();\n",
              "  </script>\n",
              "</div>\n",
              "    </div>\n",
              "  </div>\n"
            ],
            "application/vnd.google.colaboratory.intrinsic+json": {
              "type": "dataframe",
              "variable_name": "countrydata",
              "summary": "{\n  \"name\": \"countrydata\",\n  \"rows\": 174,\n  \"fields\": [\n    {\n      \"column\": \"country_name\",\n      \"properties\": {\n        \"dtype\": \"string\",\n        \"num_unique_values\": 174,\n        \"samples\": [\n          \"Cyprus\",\n          \"Belize\",\n          \"Mauritania\"\n        ],\n        \"semantic_type\": \"\",\n        \"description\": \"\"\n      }\n    },\n    {\n      \"column\": \"population\",\n      \"properties\": {\n        \"dtype\": \"number\",\n        \"std\": 151506670,\n        \"min\": 196440,\n        \"max\": 1409517397,\n        \"num_unique_values\": 174,\n        \"samples\": [\n          1179551,\n          374681,\n          4420184\n        ],\n        \"semantic_type\": \"\",\n        \"description\": \"\"\n      }\n    },\n    {\n      \"column\": \"population_below_poverty_line\",\n      \"properties\": {\n        \"dtype\": \"number\",\n        \"std\": 17.544182524404892,\n        \"min\": 0.2,\n        \"max\": 82.5,\n        \"num_unique_values\": 124,\n        \"samples\": [\n          54.0,\n          19.7,\n          21.1\n        ],\n        \"semantic_type\": \"\",\n        \"description\": \"\"\n      }\n    },\n    {\n      \"column\": \"hdi\",\n      \"properties\": {\n        \"dtype\": \"number\",\n        \"std\": 0.15979481007157065,\n        \"min\": 0.3524402,\n        \"max\": 0.949422834,\n        \"num_unique_values\": 171,\n        \"samples\": [\n          0.513106014,\n          0.442108693,\n          0.492813352\n        ],\n        \"semantic_type\": \"\",\n        \"description\": \"\"\n      }\n    },\n    {\n      \"column\": \"life_expectancy\",\n      \"properties\": {\n        \"dtype\": \"number\",\n        \"std\": 8.640918403041326,\n        \"min\": 48.943,\n        \"max\": 84.163,\n        \"num_unique_values\": 167,\n        \"samples\": [\n          63.239,\n          77.755,\n          81.956\n        ],\n        \"semantic_type\": \"\",\n        \"description\": \"\"\n      }\n    },\n    {\n      \"column\": \"expected_years_of_schooling\",\n      \"properties\": {\n        \"dtype\": \"number\",\n        \"std\": 3.0344150896540105,\n        \"min\": 4.87162,\n        \"max\": 20.43272,\n        \"num_unique_values\": 167,\n        \"samples\": [\n          8.46379,\n          13.038995,\n          16.3356\n        ],\n        \"semantic_type\": \"\",\n        \"description\": \"\"\n      }\n    },\n    {\n      \"column\": \"mean_years_of_schooling\",\n      \"properties\": {\n        \"dtype\": \"number\",\n        \"std\": 3.1954888502977092,\n        \"min\": 1.441531766,\n        \"max\": 13.37,\n        \"num_unique_values\": 168,\n        \"samples\": [\n          8.57907,\n          7.73428,\n          9.75\n        ],\n        \"semantic_type\": \"\",\n        \"description\": \"\"\n      }\n    },\n    {\n      \"column\": \"gni\",\n      \"properties\": {\n        \"dtype\": \"number\",\n        \"std\": 19271.207947041064,\n        \"min\": 587.4739607,\n        \"max\": 129915.6009,\n        \"num_unique_values\": 168,\n        \"samples\": [\n          19148.05627,\n          1587.723183,\n          10449.20727\n        ],\n        \"semantic_type\": \"\",\n        \"description\": \"\"\n      }\n    }\n  ]\n}"
            }
          },
          "metadata": {},
          "execution_count": 67
        }
      ],
      "source": [
        "# Truncated and cleaned up region data to merge (Week 4 folder)\n",
        "countrydata=pd.read_csv(\"newcountryvars.csv\")\n",
        "\n",
        "countrydata.head(100)"
      ]
    },
    {
      "cell_type": "code",
      "execution_count": null,
      "metadata": {
        "id": "8iMJhqME9Lmq"
      },
      "outputs": [],
      "source": [
        "# Merge in new data to X_train and X_test by taking \"Country or region\" from first table and \"country_name\" from 2nd table.\n",
        "\n",
        "X_train= pd.merge(X_train, countrydata, left_on='Country or region', right_on='country_name', how='left',suffixes=('', '_remove'))\n",
        "X_train.drop([i for i in X_train.columns if 'remove' in i],\n",
        "               axis=1, inplace=True)\n",
        "\n",
        "X_test= pd.merge(X_test, countrydata, left_on='Country or region', right_on='country_name', how='left',suffixes=('', '_remove'))\n",
        "X_test.drop([i for i in X_test.columns if 'remove' in i],\n",
        "               axis=1, inplace=True)\n"
      ]
    },
    {
      "cell_type": "code",
      "source": [
        "X_train.head(100)"
      ],
      "metadata": {
        "colab": {
          "base_uri": "https://localhost:8080/",
          "height": 756
        },
        "id": "E6jSO3RB7PUF",
        "outputId": "276bddce-d3f4-4971-9fd2-5fe07da67f76"
      },
      "execution_count": null,
      "outputs": [
        {
          "output_type": "execute_result",
          "data": {
            "text/plain": [
              "      Country or region  GDP per capita  Social support  \\\n",
              "0                  Peru           0.960           1.274   \n",
              "1             Nicaragua           0.694           1.325   \n",
              "2                Greece           1.181           1.156   \n",
              "3                 Qatar           1.684           1.313   \n",
              "4            Uzbekistan           0.745           1.529   \n",
              "..                  ...             ...             ...   \n",
              "83                Libya           1.044           1.303   \n",
              "84              Albania           0.947           0.848   \n",
              "85       United Kingdom           1.333           1.538   \n",
              "86                China           1.029           1.125   \n",
              "87  Congo (Brazzaville)           0.673           0.799   \n",
              "\n",
              "    Healthy life expectancy  Freedom to make life choices  Generosity  \\\n",
              "0                     0.854                         0.455       0.083   \n",
              "1                     0.835                         0.435       0.200   \n",
              "2                     0.999                         0.067       0.000   \n",
              "3                     0.871                         0.555       0.220   \n",
              "4                     0.756                         0.631       0.322   \n",
              "..                      ...                           ...         ...   \n",
              "83                    0.673                         0.416       0.133   \n",
              "84                    0.874                         0.383       0.178   \n",
              "85                    0.996                         0.450       0.348   \n",
              "86                    0.893                         0.521       0.058   \n",
              "87                    0.508                         0.372       0.105   \n",
              "\n",
              "    Perceptions of corruption                 name    region  \\\n",
              "0                       0.027                 Peru  Americas   \n",
              "1                       0.127            Nicaragua  Americas   \n",
              "2                       0.034               Greece    Europe   \n",
              "3                       0.167                Qatar      Asia   \n",
              "4                       0.240           Uzbekistan      Asia   \n",
              "..                        ...                  ...       ...   \n",
              "83                      0.152                Libya    Africa   \n",
              "84                      0.027              Albania    Europe   \n",
              "85                      0.278       United Kingdom    Europe   \n",
              "86                      0.100                China      Asia   \n",
              "87                      0.093  Congo (Brazzaville)    Africa   \n",
              "\n",
              "                         sub-region  Terrorist_attacks    country_name  \\\n",
              "0   Latin America and the Caribbean          18.000000            Peru   \n",
              "1   Latin America and the Caribbean         125.611111       Nicaragua   \n",
              "2                   Southern Europe         112.000000          Greece   \n",
              "3                      Western Asia          57.333333           Qatar   \n",
              "4                      Central Asia         125.611111      Uzbekistan   \n",
              "..                              ...                ...             ...   \n",
              "83                  Northern Africa        1448.000000           Libya   \n",
              "84                  Southern Europe           9.000000         Albania   \n",
              "85                  Northern Europe         339.000000  United Kingdom   \n",
              "86                     Eastern Asia          37.000000           China   \n",
              "87               Sub-Saharan Africa         122.000000             NaN   \n",
              "\n",
              "      population  population_below_poverty_line       hdi  life_expectancy  \\\n",
              "0   3.216548e+07                           22.7  0.739749           74.814   \n",
              "1   6.217581e+06                           29.6  0.645203           75.212   \n",
              "2   1.115977e+07                           36.0  0.865873           81.071   \n",
              "3   2.639211e+06                            NaN  0.855531           78.323   \n",
              "4   3.191064e+07                           14.0  0.700668           69.400   \n",
              "..           ...                            ...       ...              ...   \n",
              "83  6.374616e+06                           33.0  0.716443           71.763   \n",
              "84  2.930187e+06                           14.3  0.764174           77.968   \n",
              "85  6.618158e+07                           15.0  0.909491           80.849   \n",
              "86  1.409517e+09                            3.3  0.737681           75.963   \n",
              "87           NaN                            NaN       NaN              NaN   \n",
              "\n",
              "    expected_years_of_schooling  mean_years_of_schooling            gni  \n",
              "0                      13.38634                 9.013470   11294.840330  \n",
              "1                      11.67000                 6.544000    4746.699464  \n",
              "2                      17.21752                10.539460   24807.535890  \n",
              "3                      13.40610                 9.764630  129915.600900  \n",
              "4                      12.16651                12.048045    5748.226043  \n",
              "..                          ...                      ...            ...  \n",
              "83                     13.40250                 7.310000   14303.109530  \n",
              "84                     14.17968                 9.646810   10252.469830  \n",
              "85                     16.31090                13.284120   37930.827010  \n",
              "86                     13.53575                 7.641840   13345.477460  \n",
              "87                          NaN                      NaN            NaN  \n",
              "\n",
              "[88 rows x 19 columns]"
            ],
            "text/html": [
              "\n",
              "  <div id=\"df-f7d68da9-8359-4f73-acb2-2232908af1eb\" class=\"colab-df-container\">\n",
              "    <div>\n",
              "<style scoped>\n",
              "    .dataframe tbody tr th:only-of-type {\n",
              "        vertical-align: middle;\n",
              "    }\n",
              "\n",
              "    .dataframe tbody tr th {\n",
              "        vertical-align: top;\n",
              "    }\n",
              "\n",
              "    .dataframe thead th {\n",
              "        text-align: right;\n",
              "    }\n",
              "</style>\n",
              "<table border=\"1\" class=\"dataframe\">\n",
              "  <thead>\n",
              "    <tr style=\"text-align: right;\">\n",
              "      <th></th>\n",
              "      <th>Country or region</th>\n",
              "      <th>GDP per capita</th>\n",
              "      <th>Social support</th>\n",
              "      <th>Healthy life expectancy</th>\n",
              "      <th>Freedom to make life choices</th>\n",
              "      <th>Generosity</th>\n",
              "      <th>Perceptions of corruption</th>\n",
              "      <th>name</th>\n",
              "      <th>region</th>\n",
              "      <th>sub-region</th>\n",
              "      <th>Terrorist_attacks</th>\n",
              "      <th>country_name</th>\n",
              "      <th>population</th>\n",
              "      <th>population_below_poverty_line</th>\n",
              "      <th>hdi</th>\n",
              "      <th>life_expectancy</th>\n",
              "      <th>expected_years_of_schooling</th>\n",
              "      <th>mean_years_of_schooling</th>\n",
              "      <th>gni</th>\n",
              "    </tr>\n",
              "  </thead>\n",
              "  <tbody>\n",
              "    <tr>\n",
              "      <th>0</th>\n",
              "      <td>Peru</td>\n",
              "      <td>0.960</td>\n",
              "      <td>1.274</td>\n",
              "      <td>0.854</td>\n",
              "      <td>0.455</td>\n",
              "      <td>0.083</td>\n",
              "      <td>0.027</td>\n",
              "      <td>Peru</td>\n",
              "      <td>Americas</td>\n",
              "      <td>Latin America and the Caribbean</td>\n",
              "      <td>18.000000</td>\n",
              "      <td>Peru</td>\n",
              "      <td>3.216548e+07</td>\n",
              "      <td>22.7</td>\n",
              "      <td>0.739749</td>\n",
              "      <td>74.814</td>\n",
              "      <td>13.38634</td>\n",
              "      <td>9.013470</td>\n",
              "      <td>11294.840330</td>\n",
              "    </tr>\n",
              "    <tr>\n",
              "      <th>1</th>\n",
              "      <td>Nicaragua</td>\n",
              "      <td>0.694</td>\n",
              "      <td>1.325</td>\n",
              "      <td>0.835</td>\n",
              "      <td>0.435</td>\n",
              "      <td>0.200</td>\n",
              "      <td>0.127</td>\n",
              "      <td>Nicaragua</td>\n",
              "      <td>Americas</td>\n",
              "      <td>Latin America and the Caribbean</td>\n",
              "      <td>125.611111</td>\n",
              "      <td>Nicaragua</td>\n",
              "      <td>6.217581e+06</td>\n",
              "      <td>29.6</td>\n",
              "      <td>0.645203</td>\n",
              "      <td>75.212</td>\n",
              "      <td>11.67000</td>\n",
              "      <td>6.544000</td>\n",
              "      <td>4746.699464</td>\n",
              "    </tr>\n",
              "    <tr>\n",
              "      <th>2</th>\n",
              "      <td>Greece</td>\n",
              "      <td>1.181</td>\n",
              "      <td>1.156</td>\n",
              "      <td>0.999</td>\n",
              "      <td>0.067</td>\n",
              "      <td>0.000</td>\n",
              "      <td>0.034</td>\n",
              "      <td>Greece</td>\n",
              "      <td>Europe</td>\n",
              "      <td>Southern Europe</td>\n",
              "      <td>112.000000</td>\n",
              "      <td>Greece</td>\n",
              "      <td>1.115977e+07</td>\n",
              "      <td>36.0</td>\n",
              "      <td>0.865873</td>\n",
              "      <td>81.071</td>\n",
              "      <td>17.21752</td>\n",
              "      <td>10.539460</td>\n",
              "      <td>24807.535890</td>\n",
              "    </tr>\n",
              "    <tr>\n",
              "      <th>3</th>\n",
              "      <td>Qatar</td>\n",
              "      <td>1.684</td>\n",
              "      <td>1.313</td>\n",
              "      <td>0.871</td>\n",
              "      <td>0.555</td>\n",
              "      <td>0.220</td>\n",
              "      <td>0.167</td>\n",
              "      <td>Qatar</td>\n",
              "      <td>Asia</td>\n",
              "      <td>Western Asia</td>\n",
              "      <td>57.333333</td>\n",
              "      <td>Qatar</td>\n",
              "      <td>2.639211e+06</td>\n",
              "      <td>NaN</td>\n",
              "      <td>0.855531</td>\n",
              "      <td>78.323</td>\n",
              "      <td>13.40610</td>\n",
              "      <td>9.764630</td>\n",
              "      <td>129915.600900</td>\n",
              "    </tr>\n",
              "    <tr>\n",
              "      <th>4</th>\n",
              "      <td>Uzbekistan</td>\n",
              "      <td>0.745</td>\n",
              "      <td>1.529</td>\n",
              "      <td>0.756</td>\n",
              "      <td>0.631</td>\n",
              "      <td>0.322</td>\n",
              "      <td>0.240</td>\n",
              "      <td>Uzbekistan</td>\n",
              "      <td>Asia</td>\n",
              "      <td>Central Asia</td>\n",
              "      <td>125.611111</td>\n",
              "      <td>Uzbekistan</td>\n",
              "      <td>3.191064e+07</td>\n",
              "      <td>14.0</td>\n",
              "      <td>0.700668</td>\n",
              "      <td>69.400</td>\n",
              "      <td>12.16651</td>\n",
              "      <td>12.048045</td>\n",
              "      <td>5748.226043</td>\n",
              "    </tr>\n",
              "    <tr>\n",
              "      <th>...</th>\n",
              "      <td>...</td>\n",
              "      <td>...</td>\n",
              "      <td>...</td>\n",
              "      <td>...</td>\n",
              "      <td>...</td>\n",
              "      <td>...</td>\n",
              "      <td>...</td>\n",
              "      <td>...</td>\n",
              "      <td>...</td>\n",
              "      <td>...</td>\n",
              "      <td>...</td>\n",
              "      <td>...</td>\n",
              "      <td>...</td>\n",
              "      <td>...</td>\n",
              "      <td>...</td>\n",
              "      <td>...</td>\n",
              "      <td>...</td>\n",
              "      <td>...</td>\n",
              "      <td>...</td>\n",
              "    </tr>\n",
              "    <tr>\n",
              "      <th>83</th>\n",
              "      <td>Libya</td>\n",
              "      <td>1.044</td>\n",
              "      <td>1.303</td>\n",
              "      <td>0.673</td>\n",
              "      <td>0.416</td>\n",
              "      <td>0.133</td>\n",
              "      <td>0.152</td>\n",
              "      <td>Libya</td>\n",
              "      <td>Africa</td>\n",
              "      <td>Northern Africa</td>\n",
              "      <td>1448.000000</td>\n",
              "      <td>Libya</td>\n",
              "      <td>6.374616e+06</td>\n",
              "      <td>33.0</td>\n",
              "      <td>0.716443</td>\n",
              "      <td>71.763</td>\n",
              "      <td>13.40250</td>\n",
              "      <td>7.310000</td>\n",
              "      <td>14303.109530</td>\n",
              "    </tr>\n",
              "    <tr>\n",
              "      <th>84</th>\n",
              "      <td>Albania</td>\n",
              "      <td>0.947</td>\n",
              "      <td>0.848</td>\n",
              "      <td>0.874</td>\n",
              "      <td>0.383</td>\n",
              "      <td>0.178</td>\n",
              "      <td>0.027</td>\n",
              "      <td>Albania</td>\n",
              "      <td>Europe</td>\n",
              "      <td>Southern Europe</td>\n",
              "      <td>9.000000</td>\n",
              "      <td>Albania</td>\n",
              "      <td>2.930187e+06</td>\n",
              "      <td>14.3</td>\n",
              "      <td>0.764174</td>\n",
              "      <td>77.968</td>\n",
              "      <td>14.17968</td>\n",
              "      <td>9.646810</td>\n",
              "      <td>10252.469830</td>\n",
              "    </tr>\n",
              "    <tr>\n",
              "      <th>85</th>\n",
              "      <td>United Kingdom</td>\n",
              "      <td>1.333</td>\n",
              "      <td>1.538</td>\n",
              "      <td>0.996</td>\n",
              "      <td>0.450</td>\n",
              "      <td>0.348</td>\n",
              "      <td>0.278</td>\n",
              "      <td>United Kingdom</td>\n",
              "      <td>Europe</td>\n",
              "      <td>Northern Europe</td>\n",
              "      <td>339.000000</td>\n",
              "      <td>United Kingdom</td>\n",
              "      <td>6.618158e+07</td>\n",
              "      <td>15.0</td>\n",
              "      <td>0.909491</td>\n",
              "      <td>80.849</td>\n",
              "      <td>16.31090</td>\n",
              "      <td>13.284120</td>\n",
              "      <td>37930.827010</td>\n",
              "    </tr>\n",
              "    <tr>\n",
              "      <th>86</th>\n",
              "      <td>China</td>\n",
              "      <td>1.029</td>\n",
              "      <td>1.125</td>\n",
              "      <td>0.893</td>\n",
              "      <td>0.521</td>\n",
              "      <td>0.058</td>\n",
              "      <td>0.100</td>\n",
              "      <td>China</td>\n",
              "      <td>Asia</td>\n",
              "      <td>Eastern Asia</td>\n",
              "      <td>37.000000</td>\n",
              "      <td>China</td>\n",
              "      <td>1.409517e+09</td>\n",
              "      <td>3.3</td>\n",
              "      <td>0.737681</td>\n",
              "      <td>75.963</td>\n",
              "      <td>13.53575</td>\n",
              "      <td>7.641840</td>\n",
              "      <td>13345.477460</td>\n",
              "    </tr>\n",
              "    <tr>\n",
              "      <th>87</th>\n",
              "      <td>Congo (Brazzaville)</td>\n",
              "      <td>0.673</td>\n",
              "      <td>0.799</td>\n",
              "      <td>0.508</td>\n",
              "      <td>0.372</td>\n",
              "      <td>0.105</td>\n",
              "      <td>0.093</td>\n",
              "      <td>Congo (Brazzaville)</td>\n",
              "      <td>Africa</td>\n",
              "      <td>Sub-Saharan Africa</td>\n",
              "      <td>122.000000</td>\n",
              "      <td>NaN</td>\n",
              "      <td>NaN</td>\n",
              "      <td>NaN</td>\n",
              "      <td>NaN</td>\n",
              "      <td>NaN</td>\n",
              "      <td>NaN</td>\n",
              "      <td>NaN</td>\n",
              "      <td>NaN</td>\n",
              "    </tr>\n",
              "  </tbody>\n",
              "</table>\n",
              "<p>88 rows × 19 columns</p>\n",
              "</div>\n",
              "    <div class=\"colab-df-buttons\">\n",
              "\n",
              "  <div class=\"colab-df-container\">\n",
              "    <button class=\"colab-df-convert\" onclick=\"convertToInteractive('df-f7d68da9-8359-4f73-acb2-2232908af1eb')\"\n",
              "            title=\"Convert this dataframe to an interactive table.\"\n",
              "            style=\"display:none;\">\n",
              "\n",
              "  <svg xmlns=\"http://www.w3.org/2000/svg\" height=\"24px\" viewBox=\"0 -960 960 960\">\n",
              "    <path d=\"M120-120v-720h720v720H120Zm60-500h600v-160H180v160Zm220 220h160v-160H400v160Zm0 220h160v-160H400v160ZM180-400h160v-160H180v160Zm440 0h160v-160H620v160ZM180-180h160v-160H180v160Zm440 0h160v-160H620v160Z\"/>\n",
              "  </svg>\n",
              "    </button>\n",
              "\n",
              "  <style>\n",
              "    .colab-df-container {\n",
              "      display:flex;\n",
              "      gap: 12px;\n",
              "    }\n",
              "\n",
              "    .colab-df-convert {\n",
              "      background-color: #E8F0FE;\n",
              "      border: none;\n",
              "      border-radius: 50%;\n",
              "      cursor: pointer;\n",
              "      display: none;\n",
              "      fill: #1967D2;\n",
              "      height: 32px;\n",
              "      padding: 0 0 0 0;\n",
              "      width: 32px;\n",
              "    }\n",
              "\n",
              "    .colab-df-convert:hover {\n",
              "      background-color: #E2EBFA;\n",
              "      box-shadow: 0px 1px 2px rgba(60, 64, 67, 0.3), 0px 1px 3px 1px rgba(60, 64, 67, 0.15);\n",
              "      fill: #174EA6;\n",
              "    }\n",
              "\n",
              "    .colab-df-buttons div {\n",
              "      margin-bottom: 4px;\n",
              "    }\n",
              "\n",
              "    [theme=dark] .colab-df-convert {\n",
              "      background-color: #3B4455;\n",
              "      fill: #D2E3FC;\n",
              "    }\n",
              "\n",
              "    [theme=dark] .colab-df-convert:hover {\n",
              "      background-color: #434B5C;\n",
              "      box-shadow: 0px 1px 3px 1px rgba(0, 0, 0, 0.15);\n",
              "      filter: drop-shadow(0px 1px 2px rgba(0, 0, 0, 0.3));\n",
              "      fill: #FFFFFF;\n",
              "    }\n",
              "  </style>\n",
              "\n",
              "    <script>\n",
              "      const buttonEl =\n",
              "        document.querySelector('#df-f7d68da9-8359-4f73-acb2-2232908af1eb button.colab-df-convert');\n",
              "      buttonEl.style.display =\n",
              "        google.colab.kernel.accessAllowed ? 'block' : 'none';\n",
              "\n",
              "      async function convertToInteractive(key) {\n",
              "        const element = document.querySelector('#df-f7d68da9-8359-4f73-acb2-2232908af1eb');\n",
              "        const dataTable =\n",
              "          await google.colab.kernel.invokeFunction('convertToInteractive',\n",
              "                                                    [key], {});\n",
              "        if (!dataTable) return;\n",
              "\n",
              "        const docLinkHtml = 'Like what you see? Visit the ' +\n",
              "          '<a target=\"_blank\" href=https://colab.research.google.com/notebooks/data_table.ipynb>data table notebook</a>'\n",
              "          + ' to learn more about interactive tables.';\n",
              "        element.innerHTML = '';\n",
              "        dataTable['output_type'] = 'display_data';\n",
              "        await google.colab.output.renderOutput(dataTable, element);\n",
              "        const docLink = document.createElement('div');\n",
              "        docLink.innerHTML = docLinkHtml;\n",
              "        element.appendChild(docLink);\n",
              "      }\n",
              "    </script>\n",
              "  </div>\n",
              "\n",
              "\n",
              "<div id=\"df-71f17a7c-4fb7-431a-ac25-1e0f8ac51426\">\n",
              "  <button class=\"colab-df-quickchart\" onclick=\"quickchart('df-71f17a7c-4fb7-431a-ac25-1e0f8ac51426')\"\n",
              "            title=\"Suggest charts\"\n",
              "            style=\"display:none;\">\n",
              "\n",
              "<svg xmlns=\"http://www.w3.org/2000/svg\" height=\"24px\"viewBox=\"0 0 24 24\"\n",
              "     width=\"24px\">\n",
              "    <g>\n",
              "        <path d=\"M19 3H5c-1.1 0-2 .9-2 2v14c0 1.1.9 2 2 2h14c1.1 0 2-.9 2-2V5c0-1.1-.9-2-2-2zM9 17H7v-7h2v7zm4 0h-2V7h2v10zm4 0h-2v-4h2v4z\"/>\n",
              "    </g>\n",
              "</svg>\n",
              "  </button>\n",
              "\n",
              "<style>\n",
              "  .colab-df-quickchart {\n",
              "      --bg-color: #E8F0FE;\n",
              "      --fill-color: #1967D2;\n",
              "      --hover-bg-color: #E2EBFA;\n",
              "      --hover-fill-color: #174EA6;\n",
              "      --disabled-fill-color: #AAA;\n",
              "      --disabled-bg-color: #DDD;\n",
              "  }\n",
              "\n",
              "  [theme=dark] .colab-df-quickchart {\n",
              "      --bg-color: #3B4455;\n",
              "      --fill-color: #D2E3FC;\n",
              "      --hover-bg-color: #434B5C;\n",
              "      --hover-fill-color: #FFFFFF;\n",
              "      --disabled-bg-color: #3B4455;\n",
              "      --disabled-fill-color: #666;\n",
              "  }\n",
              "\n",
              "  .colab-df-quickchart {\n",
              "    background-color: var(--bg-color);\n",
              "    border: none;\n",
              "    border-radius: 50%;\n",
              "    cursor: pointer;\n",
              "    display: none;\n",
              "    fill: var(--fill-color);\n",
              "    height: 32px;\n",
              "    padding: 0;\n",
              "    width: 32px;\n",
              "  }\n",
              "\n",
              "  .colab-df-quickchart:hover {\n",
              "    background-color: var(--hover-bg-color);\n",
              "    box-shadow: 0 1px 2px rgba(60, 64, 67, 0.3), 0 1px 3px 1px rgba(60, 64, 67, 0.15);\n",
              "    fill: var(--button-hover-fill-color);\n",
              "  }\n",
              "\n",
              "  .colab-df-quickchart-complete:disabled,\n",
              "  .colab-df-quickchart-complete:disabled:hover {\n",
              "    background-color: var(--disabled-bg-color);\n",
              "    fill: var(--disabled-fill-color);\n",
              "    box-shadow: none;\n",
              "  }\n",
              "\n",
              "  .colab-df-spinner {\n",
              "    border: 2px solid var(--fill-color);\n",
              "    border-color: transparent;\n",
              "    border-bottom-color: var(--fill-color);\n",
              "    animation:\n",
              "      spin 1s steps(1) infinite;\n",
              "  }\n",
              "\n",
              "  @keyframes spin {\n",
              "    0% {\n",
              "      border-color: transparent;\n",
              "      border-bottom-color: var(--fill-color);\n",
              "      border-left-color: var(--fill-color);\n",
              "    }\n",
              "    20% {\n",
              "      border-color: transparent;\n",
              "      border-left-color: var(--fill-color);\n",
              "      border-top-color: var(--fill-color);\n",
              "    }\n",
              "    30% {\n",
              "      border-color: transparent;\n",
              "      border-left-color: var(--fill-color);\n",
              "      border-top-color: var(--fill-color);\n",
              "      border-right-color: var(--fill-color);\n",
              "    }\n",
              "    40% {\n",
              "      border-color: transparent;\n",
              "      border-right-color: var(--fill-color);\n",
              "      border-top-color: var(--fill-color);\n",
              "    }\n",
              "    60% {\n",
              "      border-color: transparent;\n",
              "      border-right-color: var(--fill-color);\n",
              "    }\n",
              "    80% {\n",
              "      border-color: transparent;\n",
              "      border-right-color: var(--fill-color);\n",
              "      border-bottom-color: var(--fill-color);\n",
              "    }\n",
              "    90% {\n",
              "      border-color: transparent;\n",
              "      border-bottom-color: var(--fill-color);\n",
              "    }\n",
              "  }\n",
              "</style>\n",
              "\n",
              "  <script>\n",
              "    async function quickchart(key) {\n",
              "      const quickchartButtonEl =\n",
              "        document.querySelector('#' + key + ' button');\n",
              "      quickchartButtonEl.disabled = true;  // To prevent multiple clicks.\n",
              "      quickchartButtonEl.classList.add('colab-df-spinner');\n",
              "      try {\n",
              "        const charts = await google.colab.kernel.invokeFunction(\n",
              "            'suggestCharts', [key], {});\n",
              "      } catch (error) {\n",
              "        console.error('Error during call to suggestCharts:', error);\n",
              "      }\n",
              "      quickchartButtonEl.classList.remove('colab-df-spinner');\n",
              "      quickchartButtonEl.classList.add('colab-df-quickchart-complete');\n",
              "    }\n",
              "    (() => {\n",
              "      let quickchartButtonEl =\n",
              "        document.querySelector('#df-71f17a7c-4fb7-431a-ac25-1e0f8ac51426 button');\n",
              "      quickchartButtonEl.style.display =\n",
              "        google.colab.kernel.accessAllowed ? 'block' : 'none';\n",
              "    })();\n",
              "  </script>\n",
              "</div>\n",
              "    </div>\n",
              "  </div>\n"
            ],
            "application/vnd.google.colaboratory.intrinsic+json": {
              "type": "dataframe",
              "variable_name": "X_train",
              "summary": "{\n  \"name\": \"X_train\",\n  \"rows\": 88,\n  \"fields\": [\n    {\n      \"column\": \"Country or region\",\n      \"properties\": {\n        \"dtype\": \"string\",\n        \"num_unique_values\": 88,\n        \"samples\": [\n          \"Nepal\",\n          \"Peru\",\n          \"Cambodia\"\n        ],\n        \"semantic_type\": \"\",\n        \"description\": \"\"\n      }\n    },\n    {\n      \"column\": \"GDP per capita\",\n      \"properties\": {\n        \"dtype\": \"number\",\n        \"std\": 0.41263817719902224,\n        \"min\": 0.026,\n        \"max\": 1.684,\n        \"num_unique_values\": 84,\n        \"samples\": [\n          1.1,\n          0.96,\n          1.5\n        ],\n        \"semantic_type\": \"\",\n        \"description\": \"\"\n      }\n    },\n    {\n      \"column\": \"Social support\",\n      \"properties\": {\n        \"dtype\": \"number\",\n        \"std\": 0.29383019014838013,\n        \"min\": 0.0,\n        \"max\": 1.624,\n        \"num_unique_values\": 84,\n        \"samples\": [\n          1.226,\n          1.274,\n          1.528\n        ],\n        \"semantic_type\": \"\",\n        \"description\": \"\"\n      }\n    },\n    {\n      \"column\": \"Healthy life expectancy\",\n      \"properties\": {\n        \"dtype\": \"number\",\n        \"std\": 0.23767133483290306,\n        \"min\": 0.105,\n        \"max\": 1.141,\n        \"num_unique_values\": 74,\n        \"samples\": [\n          0.756,\n          0.996,\n          1.141\n        ],\n        \"semantic_type\": \"\",\n        \"description\": \"\"\n      }\n    },\n    {\n      \"column\": \"Freedom to make life choices\",\n      \"properties\": {\n        \"dtype\": \"number\",\n        \"std\": 0.15663397022025344,\n        \"min\": 0.0,\n        \"max\": 0.631,\n        \"num_unique_values\": 82,\n        \"samples\": [\n          0.471,\n          0.455,\n          0.572\n        ],\n        \"semantic_type\": \"\",\n        \"description\": \"\"\n      }\n    },\n    {\n      \"column\": \"Generosity\",\n      \"properties\": {\n        \"dtype\": \"number\",\n        \"std\": 0.10251640284688385,\n        \"min\": 0.0,\n        \"max\": 0.566,\n        \"num_unique_values\": 79,\n        \"samples\": [\n          0.066,\n          0.083,\n          0.175\n        ],\n        \"semantic_type\": \"\",\n        \"description\": \"\"\n      }\n    },\n    {\n      \"column\": \"Perceptions of corruption\",\n      \"properties\": {\n        \"dtype\": \"number\",\n        \"std\": 0.10330914285224325,\n        \"min\": 0.0,\n        \"max\": 0.453,\n        \"num_unique_values\": 70,\n        \"samples\": [\n          0.343,\n          0.027,\n          0.162\n        ],\n        \"semantic_type\": \"\",\n        \"description\": \"\"\n      }\n    },\n    {\n      \"column\": \"name\",\n      \"properties\": {\n        \"dtype\": \"string\",\n        \"num_unique_values\": 88,\n        \"samples\": [\n          \"Nepal\",\n          \"Peru\",\n          \"Cambodia\"\n        ],\n        \"semantic_type\": \"\",\n        \"description\": \"\"\n      }\n    },\n    {\n      \"column\": \"region\",\n      \"properties\": {\n        \"dtype\": \"category\",\n        \"num_unique_values\": 5,\n        \"samples\": [\n          \"Europe\",\n          \"Oceania\",\n          \"Asia\"\n        ],\n        \"semantic_type\": \"\",\n        \"description\": \"\"\n      }\n    },\n    {\n      \"column\": \"sub-region\",\n      \"properties\": {\n        \"dtype\": \"category\",\n        \"num_unique_values\": 14,\n        \"samples\": [\n          \"Australia and New Zealand\",\n          \"Northern Europe\",\n          \"Latin America and the Caribbean\"\n        ],\n        \"semantic_type\": \"\",\n        \"description\": \"\"\n      }\n    },\n    {\n      \"column\": \"Terrorist_attacks\",\n      \"properties\": {\n        \"dtype\": \"number\",\n        \"std\": 764.3514718893506,\n        \"min\": 1.0,\n        \"max\": 6023.0,\n        \"num_unique_values\": 43,\n        \"samples\": [\n          37.0,\n          24.0,\n          84.0\n        ],\n        \"semantic_type\": \"\",\n        \"description\": \"\"\n      }\n    },\n    {\n      \"column\": \"country_name\",\n      \"properties\": {\n        \"dtype\": \"string\",\n        \"num_unique_values\": 82,\n        \"samples\": [\n          \"El Salvador\",\n          \"Peru\",\n          \"Cameroon\"\n        ],\n        \"semantic_type\": \"\",\n        \"description\": \"\"\n      }\n    },\n    {\n      \"column\": \"population\",\n      \"properties\": {\n        \"dtype\": \"number\",\n        \"std\": 158192793.34984377,\n        \"min\": 335025.0,\n        \"max\": 1409517397.0,\n        \"num_unique_values\": 82,\n        \"samples\": [\n          6377853.0,\n          32165485.0,\n          24053727.0\n        ],\n        \"semantic_type\": \"\",\n        \"description\": \"\"\n      }\n    },\n    {\n      \"column\": \"population_below_poverty_line\",\n      \"properties\": {\n        \"dtype\": \"number\",\n        \"std\": 17.046088478595063,\n        \"min\": 2.7,\n        \"max\": 72.3,\n        \"num_unique_values\": 64,\n        \"samples\": [\n          12.3,\n          23.0,\n          22.7\n        ],\n        \"semantic_type\": \"\",\n        \"description\": \"\"\n      }\n    },\n    {\n      \"column\": \"hdi\",\n      \"properties\": {\n        \"dtype\": \"number\",\n        \"std\": 0.16327253436585434,\n        \"min\": 0.3524402,\n        \"max\": 0.949422834,\n        \"num_unique_values\": 82,\n        \"samples\": [\n          0.679776519,\n          0.739748576,\n          0.517547037\n        ],\n        \"semantic_type\": \"\",\n        \"description\": \"\"\n      }\n    },\n    {\n      \"column\": \"life_expectancy\",\n      \"properties\": {\n        \"dtype\": \"number\",\n        \"std\": 8.553268945242731,\n        \"min\": 50.08,\n        \"max\": 83.684,\n        \"num_unique_values\": 82,\n        \"samples\": [\n          73.271,\n          74.814,\n          55.958\n        ],\n        \"semantic_type\": \"\",\n        \"description\": \"\"\n      }\n    },\n    {\n      \"column\": \"expected_years_of_schooling\",\n      \"properties\": {\n        \"dtype\": \"number\",\n        \"std\": 2.967324494206314,\n        \"min\": 4.87162,\n        \"max\": 19.2282,\n        \"num_unique_values\": 82,\n        \"samples\": [\n          13.16993,\n          13.38634,\n          10.415\n        ],\n        \"semantic_type\": \"\",\n        \"description\": \"\"\n      }\n    },\n    {\n      \"column\": \"mean_years_of_schooling\",\n      \"properties\": {\n        \"dtype\": \"number\",\n        \"std\": 3.16731122637063,\n        \"min\": 1.658,\n        \"max\": 13.37,\n        \"num_unique_values\": 82,\n        \"samples\": [\n          6.532387508,\n          9.013469696,\n          6.109359903\n        ],\n        \"semantic_type\": \"\",\n        \"description\": \"\"\n      }\n    },\n    {\n      \"column\": \"gni\",\n      \"properties\": {\n        \"dtype\": \"number\",\n        \"std\": 22350.275236618018,\n        \"min\": 587.4739607,\n        \"max\": 129915.6009,\n        \"num_unique_values\": 82,\n        \"samples\": [\n          7732.025398,\n          11294.84033,\n          2894.277577\n        ],\n        \"semantic_type\": \"\",\n        \"description\": \"\"\n      }\n    }\n  ]\n}"
            }
          },
          "metadata": {},
          "execution_count": 69
        }
      ]
    },
    {
      "cell_type": "markdown",
      "source": [
        "# EDA"
      ],
      "metadata": {
        "id": "3MV_a5QaydpZ"
      }
    },
    {
      "cell_type": "code",
      "execution_count": null,
      "metadata": {
        "id": "jM5kFt5zC4yn",
        "colab": {
          "base_uri": "https://localhost:8080/"
        },
        "outputId": "e3137d9e-284d-4568-e980-22bd5dda0efe"
      },
      "outputs": [
        {
          "output_type": "stream",
          "name": "stdout",
          "text": [
            "Country or region                 object\n",
            "GDP per capita                   float64\n",
            "Social support                   float64\n",
            "Healthy life expectancy          float64\n",
            "Freedom to make life choices     float64\n",
            "Generosity                       float64\n",
            "Perceptions of corruption        float64\n",
            "name                              object\n",
            "region                            object\n",
            "sub-region                        object\n",
            "Terrorist_attacks                float64\n",
            "country_name                      object\n",
            "population                       float64\n",
            "population_below_poverty_line    float64\n",
            "hdi                              float64\n",
            "life_expectancy                  float64\n",
            "expected_years_of_schooling      float64\n",
            "mean_years_of_schooling          float64\n",
            "gni                              float64\n",
            "dtype: object\n"
          ]
        }
      ],
      "source": [
        "print(X_train.dtypes)"
      ]
    },
    {
      "cell_type": "markdown",
      "source": [
        "Describe what you see above?"
      ],
      "metadata": {
        "id": "eBngMQdmykLZ"
      }
    },
    {
      "cell_type": "code",
      "source": [
        "# Your answer: The data type for each column in the X_train dataframe, which contain mostly 'float64', indicating numercal values with decimal points.\n",
        "# Others with 'object' indicating categorical variables. Population's data type is 'int64' since population should be integer."
      ],
      "metadata": {
        "id": "Phkm6BKCyjuF"
      },
      "execution_count": null,
      "outputs": []
    },
    {
      "cell_type": "markdown",
      "source": [
        "Find out the number and percentage of missing values in the table per column"
      ],
      "metadata": {
        "id": "OmlG3-8Tys3-"
      }
    },
    {
      "cell_type": "code",
      "source": [
        "# Your code here:\n",
        "round(X_train.isnull().mean()*100,2)"
      ],
      "metadata": {
        "id": "ejFHu-84y2Nr",
        "colab": {
          "base_uri": "https://localhost:8080/"
        },
        "outputId": "4eb90b44-edc4-4033-9cb3-006b953bddd7"
      },
      "execution_count": null,
      "outputs": [
        {
          "output_type": "execute_result",
          "data": {
            "text/plain": [
              "Country or region                 0.00\n",
              "GDP per capita                    0.00\n",
              "Social support                    0.00\n",
              "Healthy life expectancy           0.00\n",
              "Freedom to make life choices      0.00\n",
              "Generosity                        0.00\n",
              "Perceptions of corruption         0.00\n",
              "name                              0.00\n",
              "region                            0.00\n",
              "sub-region                        0.00\n",
              "Terrorist_attacks                 0.00\n",
              "country_name                      6.82\n",
              "population                        6.82\n",
              "population_below_poverty_line    17.05\n",
              "hdi                               6.82\n",
              "life_expectancy                   6.82\n",
              "expected_years_of_schooling       6.82\n",
              "mean_years_of_schooling           6.82\n",
              "gni                               6.82\n",
              "dtype: float64"
            ]
          },
          "metadata": {},
          "execution_count": 71
        }
      ]
    },
    {
      "cell_type": "markdown",
      "source": [
        "Plot the frequency distribution / histogram of some of the numerical features that you think are important"
      ],
      "metadata": {
        "id": "c7Q3_DMwy4sX"
      }
    },
    {
      "cell_type": "code",
      "source": [
        "# Your plotting code here:\n",
        "from matplotlib import pyplot as plt\n",
        "X_train['GDP per capita'].plot(kind='hist', bins=20, title='GDP per capita')\n",
        "plt.gca().spines[['top', 'right',]].set_visible(False)"
      ],
      "metadata": {
        "id": "neosQxQRzKfq",
        "colab": {
          "base_uri": "https://localhost:8080/",
          "height": 452
        },
        "outputId": "5c3e3a42-845d-489e-90b3-3439a76e21ff"
      },
      "execution_count": null,
      "outputs": [
        {
          "output_type": "display_data",
          "data": {
            "text/plain": [
              "<Figure size 640x480 with 1 Axes>"
            ],
            "image/png": "[encoded data removed]"
          },
          "metadata": {}
        }
      ]
    },
    {
      "cell_type": "code",
      "source": [
        "X_train['life_expectancy'].plot(kind='hist', bins=20, title='life_expectancy')\n",
        "plt.gca().spines[['top', 'right',]].set_visible(False)"
      ],
      "metadata": {
        "colab": {
          "base_uri": "https://localhost:8080/",
          "height": 452
        },
        "id": "KfbMqKPD9WEs",
        "outputId": "f6792855-d78d-4d2c-cc29-64bae40622ab"
      },
      "execution_count": null,
      "outputs": [
        {
          "output_type": "display_data",
          "data": {
            "text/plain": [
              "<Figure size 640x480 with 1 Axes>"
            ],
            "image/png": "[encoded data removed]"
          },
          "metadata": {}
        }
      ]
    },
    {
      "cell_type": "markdown",
      "source": [
        "Plot the categorical variables and their distribution"
      ],
      "metadata": {
        "id": "F0MxV_o9zNCE"
      }
    },
    {
      "cell_type": "code",
      "source": [
        "# Your plotting code here:\n",
        "import seaborn as sns\n",
        "X_train.groupby('region').size().plot(kind='barh', color=sns.palettes.mpl_palette('Dark2'))\n",
        "plt.gca().spines[['top', 'right',]].set_visible(False)"
      ],
      "metadata": {
        "id": "17wHJ4hYzRkv",
        "colab": {
          "base_uri": "https://localhost:8080/",
          "height": 430
        },
        "outputId": "fcc303fb-e8e4-4368-9b71-3dd300a04451"
      },
      "execution_count": null,
      "outputs": [
        {
          "output_type": "display_data",
          "data": {
            "text/plain": [
              "<Figure size 640x480 with 1 Axes>"
            ],
            "image/png": "[encoded data removed]"
          },
          "metadata": {}
        }
      ]
    },
    {
      "cell_type": "code",
      "source": [
        "X_train.groupby('sub-region').size().plot(kind='barh', color=sns.palettes.mpl_palette('Dark2'))\n",
        "plt.gca().spines[['top', 'right',]].set_visible(False)"
      ],
      "metadata": {
        "colab": {
          "base_uri": "https://localhost:8080/",
          "height": 430
        },
        "id": "XE7vRanWSWcF",
        "outputId": "77837173-7278-4002-acdc-b45067412a62"
      },
      "execution_count": null,
      "outputs": [
        {
          "output_type": "display_data",
          "data": {
            "text/plain": [
              "<Figure size 640x480 with 1 Axes>"
            ],
            "image/png": "[encoded data removed]"
          },
          "metadata": {}
        }
      ]
    },
    {
      "cell_type": "code",
      "source": [
        "figsize = (12, 1.2 * len(X_train['region'].unique()))\n",
        "plt.figure(figsize=figsize)\n",
        "sns.violinplot(X_train, x='Social support', y='region', inner='stick', palette='Dark2')\n",
        "sns.despine(top=True, right=True, bottom=True, left=True)"
      ],
      "metadata": {
        "colab": {
          "base_uri": "https://localhost:8080/",
          "height": 651
        },
        "id": "9eGwLEdJRvGD",
        "outputId": "a32b9b37-710f-475e-adfb-0c0ab6335d82"
      },
      "execution_count": null,
      "outputs": [
        {
          "output_type": "stream",
          "name": "stderr",
          "text": [
            "<ipython-input-76-a547e2d03a36>:3: FutureWarning: \n",
            "\n",
            "Passing `palette` without assigning `hue` is deprecated and will be removed in v0.14.0. Assign the `y` variable to `hue` and set `legend=False` for the same effect.\n",
            "\n",
            "  sns.violinplot(X_train, x='Social support', y='region', inner='stick', palette='Dark2')\n"
          ]
        },
        {
          "output_type": "display_data",
          "data": {
            "text/plain": [
              "<Figure size 1200x600 with 1 Axes>"
            ],
            "image/png": "[encoded data removed]"
          },
          "metadata": {}
        }
      ]
    },
    {
      "cell_type": "markdown",
      "source": [
        "Explore relationships between variables (bivariate, etc), correlation tables, and how they associate with the target variable."
      ],
      "metadata": {
        "id": "Oi3lA3QElvZh"
      }
    },
    {
      "cell_type": "code",
      "source": [
        "# Your plotting code(s) here:\n",
        "X_train.plot(kind='scatter', x='Social support', y='Healthy life expectancy', s=32, alpha=.8)\n",
        "plt.gca().spines[['top', 'right',]].set_visible(False)"
      ],
      "metadata": {
        "id": "91OgPpv8mQ3T",
        "colab": {
          "base_uri": "https://localhost:8080/",
          "height": 449
        },
        "outputId": "bf31eba7-4dbf-4077-efe1-028154a5da9f"
      },
      "execution_count": null,
      "outputs": [
        {
          "output_type": "display_data",
          "data": {
            "text/plain": [
              "<Figure size 640x480 with 1 Axes>"
            ],
            "image/png": "[encoded data removed]"
          },
          "metadata": {}
        }
      ]
    },
    {
      "cell_type": "code",
      "source": [
        "X_train.plot(kind='scatter', x='Social support', y='GDP per capita', s=32, alpha=.8)\n",
        "plt.gca().spines[['top', 'right',]].set_visible(False)"
      ],
      "metadata": {
        "colab": {
          "base_uri": "https://localhost:8080/",
          "height": 451
        },
        "id": "bRtvkqKIAPiG",
        "outputId": "1c87ca64-9e0d-4f69-8c6d-6f75c343ae99"
      },
      "execution_count": null,
      "outputs": [
        {
          "output_type": "display_data",
          "data": {
            "text/plain": [
              "<Figure size 640x480 with 1 Axes>"
            ],
            "image/png": "[encoded data removed]"
          },
          "metadata": {}
        }
      ]
    },
    {
      "cell_type": "code",
      "source": [
        "print(X_train.corr())"
      ],
      "metadata": {
        "colab": {
          "base_uri": "https://localhost:8080/"
        },
        "id": "KmvGWPIjPgUp",
        "outputId": "d2066b78-f921-4732-8861-92be9e15293e"
      },
      "execution_count": null,
      "outputs": [
        {
          "output_type": "stream",
          "name": "stdout",
          "text": [
            "                               GDP per capita  Social support  \\\n",
            "GDP per capita                       1.000000        0.753791   \n",
            "Social support                       0.753791        1.000000   \n",
            "Healthy life expectancy              0.840467        0.709605   \n",
            "Freedom to make life choices         0.458313        0.502305   \n",
            "Generosity                          -0.069164       -0.015965   \n",
            "Perceptions of corruption            0.349372        0.279549   \n",
            "Terrorist_attacks                   -0.352544       -0.339582   \n",
            "population                           0.018178       -0.043590   \n",
            "population_below_poverty_line       -0.732533       -0.584165   \n",
            "hdi                                  0.958917        0.793944   \n",
            "life_expectancy                      0.832590        0.687287   \n",
            "expected_years_of_schooling          0.835412        0.735139   \n",
            "mean_years_of_schooling              0.828709        0.747244   \n",
            "gni                                  0.806649        0.511369   \n",
            "\n",
            "                               Healthy life expectancy  \\\n",
            "GDP per capita                                0.840467   \n",
            "Social support                                0.709605   \n",
            "Healthy life expectancy                       1.000000   \n",
            "Freedom to make life choices                  0.419038   \n",
            "Generosity                                   -0.024471   \n",
            "Perceptions of corruption                     0.371450   \n",
            "Terrorist_attacks                            -0.410411   \n",
            "population                                    0.034756   \n",
            "population_below_poverty_line                -0.727536   \n",
            "hdi                                           0.920931   \n",
            "life_expectancy                               0.983942   \n",
            "expected_years_of_schooling                   0.840063   \n",
            "mean_years_of_schooling                       0.790596   \n",
            "gni                                           0.610898   \n",
            "\n",
            "                               Freedom to make life choices  Generosity  \\\n",
            "GDP per capita                                     0.458313   -0.069164   \n",
            "Social support                                     0.502305   -0.015965   \n",
            "Healthy life expectancy                            0.419038   -0.024471   \n",
            "Freedom to make life choices                       1.000000    0.327923   \n",
            "Generosity                                         0.327923    1.000000   \n",
            "Perceptions of corruption                          0.496876    0.327683   \n",
            "Terrorist_attacks                                 -0.362758    0.032479   \n",
            "population                                         0.099374   -0.073973   \n",
            "population_below_poverty_line                     -0.355667    0.060410   \n",
            "hdi                                                0.409265   -0.091719   \n",
            "life_expectancy                                    0.375812   -0.035168   \n",
            "expected_years_of_schooling                        0.372584   -0.105087   \n",
            "mean_years_of_schooling                            0.342081   -0.069261   \n",
            "gni                                                0.427295    0.066596   \n",
            "\n",
            "                               Perceptions of corruption  Terrorist_attacks  \\\n",
            "GDP per capita                                  0.349372          -0.352544   \n",
            "Social support                                  0.279549          -0.339582   \n",
            "Healthy life expectancy                         0.371450          -0.410411   \n",
            "Freedom to make life choices                    0.496876          -0.362758   \n",
            "Generosity                                      0.327683           0.032479   \n",
            "Perceptions of corruption                       1.000000          -0.160908   \n",
            "Terrorist_attacks                              -0.160908           1.000000   \n",
            "population                                     -0.054870          -0.013998   \n",
            "population_below_poverty_line                  -0.179750           0.359939   \n",
            "hdi                                             0.339824          -0.357929   \n",
            "life_expectancy                                 0.333761          -0.366955   \n",
            "expected_years_of_schooling                     0.297075          -0.269991   \n",
            "mean_years_of_schooling                         0.294643          -0.374004   \n",
            "gni                                             0.493324          -0.224270   \n",
            "\n",
            "                               population  population_below_poverty_line  \\\n",
            "GDP per capita                   0.018178                      -0.732533   \n",
            "Social support                  -0.043590                      -0.584165   \n",
            "Healthy life expectancy          0.034756                      -0.727536   \n",
            "Freedom to make life choices     0.099374                      -0.355667   \n",
            "Generosity                      -0.073973                       0.060410   \n",
            "Perceptions of corruption       -0.054870                      -0.179750   \n",
            "Terrorist_attacks               -0.013998                       0.359939   \n",
            "population                       1.000000                      -0.157285   \n",
            "population_below_poverty_line   -0.157285                       1.000000   \n",
            "hdi                             -0.006420                      -0.731890   \n",
            "life_expectancy                  0.017035                      -0.708213   \n",
            "expected_years_of_schooling     -0.011698                      -0.620384   \n",
            "mean_years_of_schooling         -0.069058                      -0.643927   \n",
            "gni                             -0.064637                      -0.534577   \n",
            "\n",
            "                                    hdi  life_expectancy  \\\n",
            "GDP per capita                 0.958917         0.832590   \n",
            "Social support                 0.793944         0.687287   \n",
            "Healthy life expectancy        0.920931         0.983942   \n",
            "Freedom to make life choices   0.409265         0.375812   \n",
            "Generosity                    -0.091719        -0.035168   \n",
            "Perceptions of corruption      0.339824         0.333761   \n",
            "Terrorist_attacks             -0.357929        -0.366955   \n",
            "population                    -0.006420         0.017035   \n",
            "population_below_poverty_line -0.731890        -0.708213   \n",
            "hdi                            1.000000         0.909147   \n",
            "life_expectancy                0.909147         1.000000   \n",
            "expected_years_of_schooling    0.925231         0.823156   \n",
            "mean_years_of_schooling        0.912245         0.748448   \n",
            "gni                            0.700151         0.618515   \n",
            "\n",
            "                               expected_years_of_schooling  \\\n",
            "GDP per capita                                    0.835412   \n",
            "Social support                                    0.735139   \n",
            "Healthy life expectancy                           0.840063   \n",
            "Freedom to make life choices                      0.372584   \n",
            "Generosity                                       -0.105087   \n",
            "Perceptions of corruption                         0.297075   \n",
            "Terrorist_attacks                                -0.269991   \n",
            "population                                       -0.011698   \n",
            "population_below_poverty_line                    -0.620384   \n",
            "hdi                                               0.925231   \n",
            "life_expectancy                                   0.823156   \n",
            "expected_years_of_schooling                       1.000000   \n",
            "mean_years_of_schooling                           0.839673   \n",
            "gni                                               0.546416   \n",
            "\n",
            "                               mean_years_of_schooling       gni  \n",
            "GDP per capita                                0.828709  0.806649  \n",
            "Social support                                0.747244  0.511369  \n",
            "Healthy life expectancy                       0.790596  0.610898  \n",
            "Freedom to make life choices                  0.342081  0.427295  \n",
            "Generosity                                   -0.069261  0.066596  \n",
            "Perceptions of corruption                     0.294643  0.493324  \n",
            "Terrorist_attacks                            -0.374004 -0.224270  \n",
            "population                                   -0.069058 -0.064637  \n",
            "population_below_poverty_line                -0.643927 -0.534577  \n",
            "hdi                                           0.912245  0.700151  \n",
            "life_expectancy                               0.748448  0.618515  \n",
            "expected_years_of_schooling                   0.839673  0.546416  \n",
            "mean_years_of_schooling                       1.000000  0.555747  \n",
            "gni                                           0.555747  1.000000  \n"
          ]
        },
        {
          "output_type": "stream",
          "name": "stderr",
          "text": [
            "<ipython-input-79-1ca6ff64c51a>:1: FutureWarning: The default value of numeric_only in DataFrame.corr is deprecated. In a future version, it will default to False. Select only valid columns or specify the value of numeric_only to silence this warning.\n",
            "  print(X_train.corr())\n"
          ]
        }
      ]
    },
    {
      "cell_type": "markdown",
      "source": [
        "Write what you observed and your General comments on what should be done:"
      ],
      "metadata": {
        "id": "878CQ8e9zTf_"
      }
    },
    {
      "cell_type": "code",
      "source": [
        "# Your comments here\n",
        "# \"population_below_poverty_line\" is the only feature which have a missing value% of 10.98 in the entire X_train data frame. In order to utilize for training\n",
        "# and prediction, it would need imputation later on.\n",
        "# Both categorical and numerical features are meaningful for prediction. From categorical data(region&sub-region), we could observe that there's a skewness to\n",
        "# data. Some regions(e.g.Africa) are more represented than others due to objective reason and possibly data collection. Moreover, for numerical data most\n",
        "# follows a negatively skewed distribution.\n",
        "# \"Generosity\",\"Terrorist_attacks\",\"population\" and \"population_below_poverty_line\" are four variables which have overwhelmingly negative correlations with\n",
        "# rest of the numerical features."
      ],
      "metadata": {
        "id": "V_C7nCaYzZ_O"
      },
      "execution_count": null,
      "outputs": []
    },
    {
      "cell_type": "markdown",
      "metadata": {
        "id": "gEzPoXPj3V7u"
      },
      "source": [
        "## Preprocess data using Sklearn Column Transformer/ Write and Save Preprocessor function\n"
      ]
    },
    {
      "cell_type": "code",
      "execution_count": null,
      "metadata": {
        "id": "16QV9Y9TC3B3"
      },
      "outputs": [],
      "source": [
        "from sklearn.preprocessing import StandardScaler, OneHotEncoder\n",
        "from sklearn.compose import ColumnTransformer, make_column_transformer\n",
        "from sklearn.pipeline import Pipeline\n",
        "from sklearn.impute import SimpleImputer\n",
        "\n",
        "# Create the preprocessing pipelines for both numeric and categorical data.\n",
        "\n",
        "numeric_features = X_train[X_train.select_dtypes(include=['number']).columns]## Drop all the non-numerical features from X_train\n",
        "numeric_features=numeric_features.columns.tolist()\n",
        "\n",
        "numeric_transformer = Pipeline(steps=[\n",
        "    ('imputer', SimpleImputer(strategy='constant', fill_value=0)), ## Is this good enough?\n",
        "    ('scaler', StandardScaler())]) # You will need to describe why this is being done in the next cell\n",
        "\n",
        "categorical_features = ['region', 'sub-region']\n",
        "\n",
        "#Replacing missing values with Modal value and then one hot encoding.\n",
        "categorical_transformer = Pipeline(steps=[\n",
        "    ('imputer',SimpleImputer(strategy='most_frequent')),\n",
        "    ('onehot', OneHotEncoder(handle_unknown= 'ignore'))])\n",
        "\n",
        "# final preprocessor object set up with ColumnTransformer\n",
        "preprocessor = ColumnTransformer(\n",
        "    transformers=[\n",
        "        ('num', numeric_transformer, numeric_features),\n",
        "        ('cat', categorical_transformer, categorical_features)])\n",
        "\n",
        "#Fit your preprocessor object\n",
        "preprocess=preprocessor.fit(X_train)\n"
      ]
    },
    {
      "cell_type": "markdown",
      "source": [
        "Describe step-by-step what we are doing above, and why? You are free to change how values are imputed. What change did you make if any, and why?"
      ],
      "metadata": {
        "id": "a-_wL1ZfnnRr"
      }
    },
    {
      "cell_type": "code",
      "source": [
        "## Your answer :\n",
        "# Step 1. We dropped all the non-numerical features from X_train, and generated a list of the column name\n",
        "# Step 2. For numerical value, we set the imputation stratey as constant and set the fill value as 0, meaning when there's a missing value, we will replace\n",
        "# it with zero.The step then followed by standardize features and removing the mean and scaling to unit variance. This is a common requirement for many\n",
        "# machine learning estimators. Since they might behave badly if the individual features do not more or less look like standard normally distributed data.\n",
        "# Step 3. We then selected 'region' and 'sub-region' as two categorical variables of interests.\n",
        "# Step 4. For categorical value, we set the imputation strategy as 'most frequent' meaning we would replace any missing value with the modal value. This step\n",
        "# is then followed by encoding the categorical feature with One Hot Encoder, which generates creates a binary column for each category and returns a sparse\n",
        "# matrix or dense array. This is neccessary for feeding categorical data to many scikit-learn estimators.\n",
        "# Step 5. We then use column transformer to set up final preprocessor object,combining our previous numerical and categorical transformer, along with the features.\n",
        "# Step 6. We finally fit the preprocessor object.\n"
      ],
      "metadata": {
        "id": "7_k1H1XvnlEg"
      },
      "execution_count": null,
      "outputs": []
    },
    {
      "cell_type": "code",
      "execution_count": null,
      "metadata": {
        "id": "S_PaNOG0SUIk"
      },
      "outputs": [],
      "source": [
        "# Write function to transform data with preprocessor\n",
        "\n",
        "def preprocessor(data):\n",
        "    data.drop(['Country or region', 'name'], axis=1)\n",
        "    preprocessed_data=preprocess.transform(data)\n",
        "    return preprocessed_data"
      ]
    },
    {
      "cell_type": "markdown",
      "source": [
        "What are the differences between the \"preprocessor\" object, the \"preprocess\" object, the \"preprocessor\" function,  and the \"preprocessed_data\" that is returned finally?"
      ],
      "metadata": {
        "id": "ihlVBhHQnxdU"
      }
    },
    {
      "cell_type": "code",
      "source": [
        "## Your Answer : These four builds in progression neccessarily.  \"Preprocessor\" object are an instance of a preprocessing class or transformer in a\n",
        "# machine learning library. These objects are used to apply various transformations to our data during the preprocessing step. \"Preprocess\" object in this\n",
        "# context refer to the collective \"preprocessor\" objects defined in the previous steps. The \"preprocessor\" function is a custom function we define to handle\n",
        "# specific transformations on the data, which could be later fit with other dataframe as well. The final returned \"preprocessed_data\" is neccessarily the end\n",
        "# product of transformed X_train data that's fitful for machine learning."
      ],
      "metadata": {
        "id": "KgszpguCoBkB"
      },
      "execution_count": null,
      "outputs": []
    },
    {
      "cell_type": "code",
      "execution_count": null,
      "metadata": {
        "id": "a1IPy9xvSWBp",
        "colab": {
          "base_uri": "https://localhost:8080/"
        },
        "outputId": "d3058541-8e7b-4b5c-df65-1cdb9cc300b5"
      },
      "outputs": [
        {
          "output_type": "execute_result",
          "data": {
            "text/plain": [
              "(88, 33)"
            ]
          },
          "metadata": {},
          "execution_count": 82
        }
      ],
      "source": [
        "# check shape of X data after preprocessing it using our new function\n",
        "preprocessor(X_train).shape"
      ]
    },
    {
      "cell_type": "markdown",
      "metadata": {
        "id": "X52kECL43b-O"
      },
      "source": [
        "## Fit model on preprocessed data and save preprocessor function and model\n"
      ]
    },
    {
      "cell_type": "code",
      "execution_count": null,
      "metadata": {
        "id": "NCbBf8j9ClYl",
        "colab": {
          "base_uri": "https://localhost:8080/"
        },
        "outputId": "cb2998e1-9e9b-4571-ad06-a108039682df"
      },
      "outputs": [
        {
          "output_type": "stream",
          "name": "stdout",
          "text": [
            "Accuracy on training set: 0.932\n"
          ]
        }
      ],
      "source": [
        "from sklearn.ensemble import RandomForestClassifier\n",
        "\n",
        "model = RandomForestClassifier(n_estimators=5, random_state=2)## Define a Random Forest Model here, fit it, and score it\n",
        "model.fit(preprocessor(X_train),y_train)\n",
        "print(\"Accuracy on training set: {:.3f}\".format(model.score(preprocessor(X_train), y_train)))\n",
        "\n",
        "# Your cell should have a score between 0-1 as output"
      ]
    },
    {
      "cell_type": "markdown",
      "metadata": {
        "id": "bwNKs0wP4r5s"
      },
      "source": [
        "## Repeat submission process to improve place on leaderboard\n"
      ]
    },
    {
      "cell_type": "code",
      "execution_count": null,
      "metadata": {
        "id": "FgSs5PAtPCZH",
        "colab": {
          "base_uri": "https://localhost:8080/"
        },
        "outputId": "66a1e284-c5e4-4305-ebeb-bdae637b5c43"
      },
      "outputs": [
        {
          "output_type": "stream",
          "name": "stdout",
          "text": [
            "Accuracy on training set: 1.000\n"
          ]
        }
      ],
      "source": [
        "# Train and submit model 2 using same preprocessor (note that you could save a new preprocessor, but we will use the same one for this example).\n",
        "from sklearn.ensemble import RandomForestClassifier\n",
        "\n",
        "model_2 = RandomForestClassifier(n_estimators=100, random_state=0)## Make a new model with changed parameters to improve the score\n",
        "model_2.fit(preprocessor(X_train),y_train)\n",
        "print(\"Accuracy on training set: {:.3f}\".format(model_2.score(preprocessor(X_train), y_train)))"
      ]
    },
    {
      "cell_type": "markdown",
      "source": [
        " What changes did you make, what do the parameters you changed control, and why does it improve performance?"
      ],
      "metadata": {
        "id": "bYMEPL2UrWn8"
      }
    },
    {
      "cell_type": "code",
      "source": [
        "## Your answer : I increased the \"n_estimators\"-number of trees to generate for model. Possibly because with the increase of number of trees,\n",
        "# overall variance has also been reduced. It also helps better generalization, as a Random Forest with more trees is likely to capture more\n",
        "# complex patterns and relationships in the data."
      ],
      "metadata": {
        "id": "SaGdMOIcrmX2"
      },
      "execution_count": null,
      "outputs": []
    },
    {
      "cell_type": "markdown",
      "source": [
        "Do you think it is worth making more changes to the parameters? Should we keep trying random values and see what works better? What is an alternative to doing this manually?"
      ],
      "metadata": {
        "id": "yhzJ7NGOtehX"
      }
    },
    {
      "cell_type": "code",
      "source": [
        "## Your answer: There's definitely worth making more changes.  There are other parameters which I haven't deal with in previous models. Instead of manually\n",
        "# changing the parameter one by one, we can aso use"
      ],
      "metadata": {
        "id": "7Sx3ivg1td_B"
      },
      "execution_count": null,
      "outputs": []
    },
    {
      "cell_type": "code",
      "execution_count": null,
      "metadata": {
        "id": "6Go4SF37Ex_Z",
        "colab": {
          "base_uri": "https://localhost:8080/"
        },
        "outputId": "2dc7a314-a172-46f4-c2ce-fa7b80e3a9b1"
      },
      "outputs": [
        {
          "output_type": "stream",
          "name": "stdout",
          "text": [
            "best mean cross-validation score: 0.500\n",
            "best parameters: {'bootstrap': False, 'max_depth': 10, 'min_samples_leaf': 1, 'min_samples_split': 2, 'n_estimators': 30}\n"
          ]
        }
      ],
      "source": [
        "# Submit a third model using GridSearchCV\n",
        "\n",
        "from sklearn.ensemble import RandomForestClassifier\n",
        "from sklearn.model_selection import GridSearchCV\n",
        "import numpy as np\n",
        "\n",
        "rf_classifier = RandomForestClassifier()\n",
        "\n",
        "# Use np.arange to create a sequence of numbers for each parameter's space you think should be searched\n",
        "param_grid = {\n",
        "    'n_estimators': np.arange(10, 110, 10),\n",
        "    'max_depth': [None] + list(np.arange(10, 31, 5)),\n",
        "    'min_samples_split': np.arange(2, 12, 2),\n",
        "    'min_samples_leaf': np.arange(1, 5),\n",
        "    'bootstrap': [True, False]\n",
        "}\n",
        "\n",
        "# Read GridSearchCV docs and create an object with RandomForestClassifier as the model\n",
        "gridmodel = GridSearchCV(estimator=rf_classifier, param_grid=param_grid, scoring='accuracy', n_jobs=-1)\n",
        "\n",
        "#use model methods to fit score and predict model:\n",
        "gridmodel.fit(preprocessor(X_train), y_train)\n",
        "\n",
        "#extract best score and parameter by calling objects \"best_score_\" and \"best_params_\"\n",
        "print(\"best score: {:.3f}\".format(gridmodel.best_score_))\n",
        "print(\"best parameters: {}\".format(gridmodel.best_params_))\n"
      ]
    },
    {
      "cell_type": "markdown",
      "source": [
        "# Basic Deep Learning"
      ],
      "metadata": {
        "id": "2e-V2vtMmrrp"
      }
    },
    {
      "cell_type": "code",
      "execution_count": null,
      "metadata": {
        "id": "Me2pkDUsuEBH"
      },
      "outputs": [],
      "source": [
        "# Now experiment with deep learning models:\n",
        "import keras\n",
        "from keras.models import Sequential\n",
        "from keras.layers import Dense, Activation\n",
        "\n",
        "feature_count= preprocessor(X_test).shape[1]#count features in input data\n",
        "\n",
        "keras_model = Sequential()## Define a Neural Network Model with 5 layers 128->64->64->32->(?)\n",
        "\n",
        "#Use Softmax activation in last layer. How many neurons should there be in the last layer?\n",
        "keras_model.add(Dense(128, activation='relu', input_shape=(feature_count,)))  # Assuming input_dim is the input dimension\n",
        "keras_model.add(Dense(64, activation='relu'))\n",
        "keras_model.add(Dense(64, activation='relu'))\n",
        "keras_model.add(Dense(32, activation='relu'))\n",
        "keras_model.add(Dense(5, activation='softmax'))\n",
        "\n",
        "# Compile model\n",
        "keras_model.compile(loss='categorical_crossentropy', optimizer='sgd', metrics=['accuracy'])\n",
        "\n",
        "# Fitting the NN to the Training set\n",
        "history = keras_model.fit(preprocessor(X_train), y_train, ## Note that keras models require a one-hot-encoded y_train object\n",
        "               batch_size = 20,\n",
        "               epochs = 300, validation_split=0.25)"
      ]
    },
    {
      "cell_type": "markdown",
      "source": [
        "Which activations did you use in the middle layers? Why was softmax used in the last layer?"
      ],
      "metadata": {
        "id": "3ioCyMzn004c"
      }
    },
    {
      "cell_type": "code",
      "source": [
        "## Your answer: 'relu' was used in the middle layers, due to its ability of introduing non-linearity to the model. Softmax is used in the output layer\n",
        "# for multi-class classification to convert raw scores into class probabilities. Therefore, for categorical classification tasks, leaving the out most\n",
        "# layer as 'softmax' would probability distributions well."
      ],
      "metadata": {
        "id": "gIDjsg1C07Iq"
      },
      "execution_count": null,
      "outputs": []
    },
    {
      "cell_type": "markdown",
      "source": [
        "Was it a good idea to train for 300 epochs? Should you train a bit more? Why or why not?"
      ],
      "metadata": {
        "id": "vJjQq2Uzu3IW"
      }
    },
    {
      "cell_type": "code",
      "source": [
        "## Your answer:\n",
        "# Overall, it seems reasonable to train for 300 epochs. There's no obvious plateaus for performance on validation nor earlt stopping.\n",
        "# Training more could lead to overfitting, sacrificing potential performance on new test sets."
      ],
      "metadata": {
        "id": "UfyiD8SKvF-C"
      },
      "execution_count": null,
      "outputs": []
    },
    {
      "cell_type": "markdown",
      "source": [
        "Why is loss='categorical_crossentropy' and optimizer='sgd'? Would you want to change something? Why / Why not?"
      ],
      "metadata": {
        "id": "mHwaKILrvID4"
      }
    },
    {
      "cell_type": "code",
      "source": [
        "## Your answer: The choice of loss='categorical_crossentropy' indicates that the model is being trained for a multi-class classification problem where\n",
        "# the target variable is one-hot encoded and each sample belongs to one of the multiple classes. The choice of optimizer='sgd' refers to\n",
        "# Stochastic Gradient Descent, an optimization algorithm. SGD updates the model parameters based on the gradient of the loss function with respect to\n",
        "# the parameters. The current configuration works fine, but we definitely could try to use different optimizers."
      ],
      "metadata": {
        "id": "QmpDqteVv8wa"
      },
      "execution_count": null,
      "outputs": []
    },
    {
      "cell_type": "markdown",
      "source": [
        "Can you try getting the model's training history out and plotting the curves?"
      ],
      "metadata": {
        "id": "fT8-NUAaopVb"
      }
    },
    {
      "cell_type": "code",
      "source": [
        "## Your code to plot training and validation curves in a single plot (Make changes in the model cell to be able to do this)\n",
        "plt.figure(figsize=(12, 6))\n",
        "\n",
        "# Plot training & validation accuracy values\n",
        "plt.subplot(1, 2, 1)\n",
        "plt.plot(history.history['accuracy'])\n",
        "plt.plot(history.history['val_accuracy'])\n",
        "plt.title('Model accuracy')\n",
        "plt.xlabel('Epoch')\n",
        "plt.ylabel('Accuracy')\n",
        "plt.legend(['Train', 'Validation'], loc='upper left')\n",
        "\n",
        "# Plot training & validation loss values\n",
        "plt.subplot(1, 2, 2)\n",
        "plt.plot(history.history['loss'])\n",
        "plt.plot(history.history['val_loss'])\n",
        "plt.title('Model loss')\n",
        "plt.xlabel('Epoch')\n",
        "plt.ylabel('Loss')\n",
        "plt.legend(['Train', 'Validation'], loc='upper left')\n",
        "\n",
        "plt.tight_layout()\n",
        "plt.show()"
      ],
      "metadata": {
        "id": "FtmlgVsAoyU7",
        "colab": {
          "base_uri": "https://localhost:8080/",
          "height": 607
        },
        "outputId": "99c40ef6-9fd2-45a5-806c-75678acacc8a"
      },
      "execution_count": null,
      "outputs": [
        {
          "output_type": "display_data",
          "data": {
            "text/plain": [
              "<Figure size 1200x600 with 2 Axes>"
            ],
            "image/png": "[encoded data removed]"
          },
          "metadata": {}
        }
      ]
    }
  ],
  "metadata": {
    "colab": {
      "provenance": []
    },
    "kernelspec": {
      "display_name": "Python 3 (ipykernel)",
      "language": "python",
      "name": "python3"
    },
    "language_info": {
      "codemirror_mode": {
        "name": "ipython",
        "version": 3
      },
      "file_extension": ".py",
      "mimetype": "text/x-python",
      "name": "python",
      "nbconvert_exporter": "python",
      "pygments_lexer": "ipython3",
      "version": "3.11.4"
    }
  },
  "nbformat": 4,
  "nbformat_minor": 0
}